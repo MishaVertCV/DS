{
 "cells": [
  {
   "cell_type": "markdown",
   "metadata": {},
   "source": [
    "Привет! меня зовут Люман Аблаев. Сегодня я проверю твой проект.\n",
    "<br> Дальнейшее общение будет происходить на \"ты\" если это не вызывает никаких проблем.\n",
    "<br> Желательно реагировать на красные комментарии ('исправил', 'не понятно как исправить ошибку', ...)\n",
    "<br> Пожалуйста, не удаляй комментарии ревьюера, так как они повышают качество повторного ревью.\n",
    "\n",
    "Комментарии будут в <font color='green'>зеленой</font>, <font color='blue'>синей</font> или <font color='red'>красной</font> рамках:\n",
    "\n",
    "\n",
    "<div class=\"alert alert-block alert-success\">\n",
    "<b>Успех:</b> Если все сделано отлично\n",
    "</div>\n",
    "\n",
    "<div class=\"alert alert-block alert-info\">\n",
    "<b>Совет: </b> Если можно немного улучшить\n",
    "</div>\n",
    "\n",
    "<div class=\"alert alert-block alert-danger\">\n",
    "<b>Ошибка:</b> Если требуются исправления. Работа не может быть принята с красными комментариями.\n",
    "</div>\n",
    "\n",
    "-------------------\n",
    "\n",
    "Будет очень хорошо, если ты будешь помечать свои действия следующим образом:\n",
    "<div class=\"alert alert-block alert-warning\">\n",
    "<b>Комментарий студента:</b> ..\n",
    "</div>\n",
    "<div class=\"alert alert-block alert-warning\">\n",
    "<b>Изменения:</b> Были внесены следующие изменения ...\n",
    "</div>\n",
    "\n",
    "<font color='orange' style='font-size:24px; font-weight:bold'>Общее впечатление</font>\n",
    "* Спасибо за  качественную работу, было интересно ее проверять.\n",
    "- Я оставил некоторые советы надеюсь они будут полезными или интересными.\n",
    "\n",
    "- Есть небольшие недочеты, но думаю у тебя не составить труда их исправить\n",
    "- Жду обновленную работу!"
   ]
  },
  {
   "cell_type": "markdown",
   "metadata": {},
   "source": [
    "# Выбор локации для скважины"
   ]
  },
  {
   "cell_type": "markdown",
   "metadata": {},
   "source": [
    "Допустим, вы работаете в добывающей компании «ГлавРосГосНефть». Нужно решить, где бурить новую скважину.\n",
    "\n",
    "Вам предоставлены пробы нефти в трёх регионах: в каждом 10 000 месторождений, где измерили качество нефти и объём её запасов. Постройте модель машинного обучения, которая поможет определить регион, где добыча принесёт наибольшую прибыль. Проанализируйте возможную прибыль и риски техникой *Bootstrap.*\n",
    "\n",
    "Шаги для выбора локации:\n",
    "\n",
    "- В избранном регионе ищут месторождения, для каждого определяют значения признаков;\n",
    "- Строят модель и оценивают объём запасов;\n",
    "- Выбирают месторождения с самым высокими оценками значений. Количество месторождений зависит от бюджета компании и стоимости разработки одной скважины;\n",
    "- Прибыль равна суммарной прибыли отобранных месторождений."
   ]
  },
  {
   "cell_type": "markdown",
   "metadata": {},
   "source": [
    "## Загрузка и подготовка данных"
   ]
  },
  {
   "cell_type": "code",
   "execution_count": 1,
   "metadata": {},
   "outputs": [],
   "source": [
    "import pandas as pd\n",
    "import numpy as np\n",
    "from sklearn.linear_model import LinearRegression\n",
    "from sklearn.model_selection import train_test_split \n",
    "from sklearn.metrics import accuracy_score\n",
    "from sklearn.metrics import mean_squared_error "
   ]
  },
  {
   "cell_type": "markdown",
   "metadata": {},
   "source": [
    "<div class=\"alert alert-block alert-success\">\n",
    "<b>Успех:</b> Импорты  на месте\n",
    "</div>\n"
   ]
  },
  {
   "cell_type": "code",
   "execution_count": 2,
   "metadata": {},
   "outputs": [
    {
     "name": "stdout",
     "output_type": "stream",
     "text": [
      "<class 'pandas.core.frame.DataFrame'>\n",
      "RangeIndex: 100000 entries, 0 to 99999\n",
      "Data columns (total 5 columns):\n",
      " #   Column   Non-Null Count   Dtype  \n",
      "---  ------   --------------   -----  \n",
      " 0   id       100000 non-null  object \n",
      " 1   f0       100000 non-null  float64\n",
      " 2   f1       100000 non-null  float64\n",
      " 3   f2       100000 non-null  float64\n",
      " 4   product  100000 non-null  float64\n",
      "dtypes: float64(4), object(1)\n",
      "memory usage: 3.8+ MB\n"
     ]
    },
    {
     "data": {
      "text/html": [
       "<div>\n",
       "<style scoped>\n",
       "    .dataframe tbody tr th:only-of-type {\n",
       "        vertical-align: middle;\n",
       "    }\n",
       "\n",
       "    .dataframe tbody tr th {\n",
       "        vertical-align: top;\n",
       "    }\n",
       "\n",
       "    .dataframe thead th {\n",
       "        text-align: right;\n",
       "    }\n",
       "</style>\n",
       "<table border=\"1\" class=\"dataframe\">\n",
       "  <thead>\n",
       "    <tr style=\"text-align: right;\">\n",
       "      <th></th>\n",
       "      <th>id</th>\n",
       "      <th>f0</th>\n",
       "      <th>f1</th>\n",
       "      <th>f2</th>\n",
       "      <th>product</th>\n",
       "    </tr>\n",
       "  </thead>\n",
       "  <tbody>\n",
       "    <tr>\n",
       "      <th>0</th>\n",
       "      <td>txEyH</td>\n",
       "      <td>0.705745</td>\n",
       "      <td>-0.497823</td>\n",
       "      <td>1.221170</td>\n",
       "      <td>105.280062</td>\n",
       "    </tr>\n",
       "    <tr>\n",
       "      <th>1</th>\n",
       "      <td>2acmU</td>\n",
       "      <td>1.334711</td>\n",
       "      <td>-0.340164</td>\n",
       "      <td>4.365080</td>\n",
       "      <td>73.037750</td>\n",
       "    </tr>\n",
       "    <tr>\n",
       "      <th>2</th>\n",
       "      <td>409Wp</td>\n",
       "      <td>1.022732</td>\n",
       "      <td>0.151990</td>\n",
       "      <td>1.419926</td>\n",
       "      <td>85.265647</td>\n",
       "    </tr>\n",
       "    <tr>\n",
       "      <th>3</th>\n",
       "      <td>iJLyR</td>\n",
       "      <td>-0.032172</td>\n",
       "      <td>0.139033</td>\n",
       "      <td>2.978566</td>\n",
       "      <td>168.620776</td>\n",
       "    </tr>\n",
       "    <tr>\n",
       "      <th>4</th>\n",
       "      <td>Xdl7t</td>\n",
       "      <td>1.988431</td>\n",
       "      <td>0.155413</td>\n",
       "      <td>4.751769</td>\n",
       "      <td>154.036647</td>\n",
       "    </tr>\n",
       "  </tbody>\n",
       "</table>\n",
       "</div>"
      ],
      "text/plain": [
       "      id        f0        f1        f2     product\n",
       "0  txEyH  0.705745 -0.497823  1.221170  105.280062\n",
       "1  2acmU  1.334711 -0.340164  4.365080   73.037750\n",
       "2  409Wp  1.022732  0.151990  1.419926   85.265647\n",
       "3  iJLyR -0.032172  0.139033  2.978566  168.620776\n",
       "4  Xdl7t  1.988431  0.155413  4.751769  154.036647"
      ]
     },
     "execution_count": 2,
     "metadata": {},
     "output_type": "execute_result"
    }
   ],
   "source": [
    "try:\n",
    "    df1 = pd.read_csv('/datasets/geo_data_0.csv', sep = ',')\n",
    "    df2 = pd.read_csv('/datasets/geo_data_1.csv', sep = ',')\n",
    "    df3 = pd.read_csv('/datasets/geo_data_2.csv', sep = ',')\n",
    "except:\n",
    "    df1 = pd.read_csv('https://code.s3.yandex.net/datasets/geo_data_0.csv', sep = ',')\n",
    "    df2 = pd.read_csv('https://code.s3.yandex.net/datasets/geo_data_1.csv', sep = ',')\n",
    "    df3 = pd.read_csv('https://code.s3.yandex.net/datasets/geo_data_2.csv', sep = ',')\n",
    "\n",
    "df1.info()\n",
    "df1.head()"
   ]
  },
  {
   "cell_type": "code",
   "execution_count": 3,
   "metadata": {},
   "outputs": [
    {
     "name": "stdout",
     "output_type": "stream",
     "text": [
      "<class 'pandas.core.frame.DataFrame'>\n",
      "RangeIndex: 100000 entries, 0 to 99999\n",
      "Data columns (total 5 columns):\n",
      " #   Column   Non-Null Count   Dtype  \n",
      "---  ------   --------------   -----  \n",
      " 0   id       100000 non-null  object \n",
      " 1   f0       100000 non-null  float64\n",
      " 2   f1       100000 non-null  float64\n",
      " 3   f2       100000 non-null  float64\n",
      " 4   product  100000 non-null  float64\n",
      "dtypes: float64(4), object(1)\n",
      "memory usage: 3.8+ MB\n"
     ]
    },
    {
     "data": {
      "text/html": [
       "<div>\n",
       "<style scoped>\n",
       "    .dataframe tbody tr th:only-of-type {\n",
       "        vertical-align: middle;\n",
       "    }\n",
       "\n",
       "    .dataframe tbody tr th {\n",
       "        vertical-align: top;\n",
       "    }\n",
       "\n",
       "    .dataframe thead th {\n",
       "        text-align: right;\n",
       "    }\n",
       "</style>\n",
       "<table border=\"1\" class=\"dataframe\">\n",
       "  <thead>\n",
       "    <tr style=\"text-align: right;\">\n",
       "      <th></th>\n",
       "      <th>id</th>\n",
       "      <th>f0</th>\n",
       "      <th>f1</th>\n",
       "      <th>f2</th>\n",
       "      <th>product</th>\n",
       "    </tr>\n",
       "  </thead>\n",
       "  <tbody>\n",
       "    <tr>\n",
       "      <th>0</th>\n",
       "      <td>kBEdx</td>\n",
       "      <td>-15.001348</td>\n",
       "      <td>-8.276000</td>\n",
       "      <td>-0.005876</td>\n",
       "      <td>3.179103</td>\n",
       "    </tr>\n",
       "    <tr>\n",
       "      <th>1</th>\n",
       "      <td>62mP7</td>\n",
       "      <td>14.272088</td>\n",
       "      <td>-3.475083</td>\n",
       "      <td>0.999183</td>\n",
       "      <td>26.953261</td>\n",
       "    </tr>\n",
       "    <tr>\n",
       "      <th>2</th>\n",
       "      <td>vyE1P</td>\n",
       "      <td>6.263187</td>\n",
       "      <td>-5.948386</td>\n",
       "      <td>5.001160</td>\n",
       "      <td>134.766305</td>\n",
       "    </tr>\n",
       "    <tr>\n",
       "      <th>3</th>\n",
       "      <td>KcrkZ</td>\n",
       "      <td>-13.081196</td>\n",
       "      <td>-11.506057</td>\n",
       "      <td>4.999415</td>\n",
       "      <td>137.945408</td>\n",
       "    </tr>\n",
       "    <tr>\n",
       "      <th>4</th>\n",
       "      <td>AHL4O</td>\n",
       "      <td>12.702195</td>\n",
       "      <td>-8.147433</td>\n",
       "      <td>5.004363</td>\n",
       "      <td>134.766305</td>\n",
       "    </tr>\n",
       "  </tbody>\n",
       "</table>\n",
       "</div>"
      ],
      "text/plain": [
       "      id         f0         f1        f2     product\n",
       "0  kBEdx -15.001348  -8.276000 -0.005876    3.179103\n",
       "1  62mP7  14.272088  -3.475083  0.999183   26.953261\n",
       "2  vyE1P   6.263187  -5.948386  5.001160  134.766305\n",
       "3  KcrkZ -13.081196 -11.506057  4.999415  137.945408\n",
       "4  AHL4O  12.702195  -8.147433  5.004363  134.766305"
      ]
     },
     "execution_count": 3,
     "metadata": {},
     "output_type": "execute_result"
    }
   ],
   "source": [
    "df2.info()\n",
    "df2.head()"
   ]
  },
  {
   "cell_type": "code",
   "execution_count": 4,
   "metadata": {},
   "outputs": [
    {
     "name": "stdout",
     "output_type": "stream",
     "text": [
      "<class 'pandas.core.frame.DataFrame'>\n",
      "RangeIndex: 100000 entries, 0 to 99999\n",
      "Data columns (total 5 columns):\n",
      " #   Column   Non-Null Count   Dtype  \n",
      "---  ------   --------------   -----  \n",
      " 0   id       100000 non-null  object \n",
      " 1   f0       100000 non-null  float64\n",
      " 2   f1       100000 non-null  float64\n",
      " 3   f2       100000 non-null  float64\n",
      " 4   product  100000 non-null  float64\n",
      "dtypes: float64(4), object(1)\n",
      "memory usage: 3.8+ MB\n"
     ]
    },
    {
     "data": {
      "text/html": [
       "<div>\n",
       "<style scoped>\n",
       "    .dataframe tbody tr th:only-of-type {\n",
       "        vertical-align: middle;\n",
       "    }\n",
       "\n",
       "    .dataframe tbody tr th {\n",
       "        vertical-align: top;\n",
       "    }\n",
       "\n",
       "    .dataframe thead th {\n",
       "        text-align: right;\n",
       "    }\n",
       "</style>\n",
       "<table border=\"1\" class=\"dataframe\">\n",
       "  <thead>\n",
       "    <tr style=\"text-align: right;\">\n",
       "      <th></th>\n",
       "      <th>id</th>\n",
       "      <th>f0</th>\n",
       "      <th>f1</th>\n",
       "      <th>f2</th>\n",
       "      <th>product</th>\n",
       "    </tr>\n",
       "  </thead>\n",
       "  <tbody>\n",
       "    <tr>\n",
       "      <th>0</th>\n",
       "      <td>fwXo0</td>\n",
       "      <td>-1.146987</td>\n",
       "      <td>0.963328</td>\n",
       "      <td>-0.828965</td>\n",
       "      <td>27.758673</td>\n",
       "    </tr>\n",
       "    <tr>\n",
       "      <th>1</th>\n",
       "      <td>WJtFt</td>\n",
       "      <td>0.262778</td>\n",
       "      <td>0.269839</td>\n",
       "      <td>-2.530187</td>\n",
       "      <td>56.069697</td>\n",
       "    </tr>\n",
       "    <tr>\n",
       "      <th>2</th>\n",
       "      <td>ovLUW</td>\n",
       "      <td>0.194587</td>\n",
       "      <td>0.289035</td>\n",
       "      <td>-5.586433</td>\n",
       "      <td>62.871910</td>\n",
       "    </tr>\n",
       "    <tr>\n",
       "      <th>3</th>\n",
       "      <td>q6cA6</td>\n",
       "      <td>2.236060</td>\n",
       "      <td>-0.553760</td>\n",
       "      <td>0.930038</td>\n",
       "      <td>114.572842</td>\n",
       "    </tr>\n",
       "    <tr>\n",
       "      <th>4</th>\n",
       "      <td>WPMUX</td>\n",
       "      <td>-0.515993</td>\n",
       "      <td>1.716266</td>\n",
       "      <td>5.899011</td>\n",
       "      <td>149.600746</td>\n",
       "    </tr>\n",
       "  </tbody>\n",
       "</table>\n",
       "</div>"
      ],
      "text/plain": [
       "      id        f0        f1        f2     product\n",
       "0  fwXo0 -1.146987  0.963328 -0.828965   27.758673\n",
       "1  WJtFt  0.262778  0.269839 -2.530187   56.069697\n",
       "2  ovLUW  0.194587  0.289035 -5.586433   62.871910\n",
       "3  q6cA6  2.236060 -0.553760  0.930038  114.572842\n",
       "4  WPMUX -0.515993  1.716266  5.899011  149.600746"
      ]
     },
     "execution_count": 4,
     "metadata": {},
     "output_type": "execute_result"
    }
   ],
   "source": [
    "df3.info()\n",
    "df3.head()"
   ]
  },
  {
   "cell_type": "markdown",
   "metadata": {},
   "source": [
    "В приведённых таблицах нет пропусков и названия столбцов соотвествуют правилам, поэтому данные в предобработке не нуждаются. "
   ]
  },
  {
   "cell_type": "markdown",
   "metadata": {},
   "source": [
    "<div class=\"alert alert-block alert-success\">\n",
    "<b>Успех:</b> Данные осмотрены бегло и можно было бы еще как минимум изучить корреляции, так как мы планируем использовать линейные модели, а для них это важно. \n",
    "</div>\n",
    "\n",
    "\n",
    "<div class=\"alert alert-block alert-info\">\n",
    "<b>Совет:</b>  Советую обратить внимание на библиотеки sweetviz и pandas_profiling помогут в проведении более тщательного EDA анализа. Исследовательский анализ можно делать и с помощью ручного вызова функций дефолтных библиотек. Данные библиотеки хороши для максимизации комфорта презентации результатов анализа бизнес-пользователям.  \n",
    "\n",
    "Очень просты в использоовании, на вход кладется датафрейм: pandas_profiling.ProfileReport(df) \n",
    "</div>\n"
   ]
  },
  {
   "cell_type": "markdown",
   "metadata": {},
   "source": [
    "## Обучение и проверка модели"
   ]
  },
  {
   "cell_type": "markdown",
   "metadata": {},
   "source": [
    "Разделим все 3 датафрейма на обучающую и валидационную выборки в соотношении 75:25:"
   ]
  },
  {
   "cell_type": "code",
   "execution_count": 5,
   "metadata": {},
   "outputs": [
    {
     "name": "stdout",
     "output_type": "stream",
     "text": [
      "Средний запас предсказанного сырья и RMSE модели линейной регрессии на валидационной выборке: 92.593 +- 37.579\n"
     ]
    }
   ],
   "source": [
    "features1 = df1.drop(['product', 'id'], axis = 1)\n",
    "target1 = df1['product'] \n",
    "\n",
    "features_train1, features_valid1, target_train1, target_valid1 = train_test_split(\n",
    "    features1, target1, test_size=0.25, random_state=12345)\n",
    "\n",
    "model = LinearRegression()\n",
    "model.fit(features_train1, target_train1) \n",
    "predictions_valid1 = model.predict(features_valid1) # предсказания модели на валидационной выборке\n",
    "\n",
    "mid1 = predictions_valid1.mean() # средний запас предсказанный на валидационной выборке\n",
    "mid1 = float('{:.3f}'.format(mid1)) # округлим результат до 3 цифр после запятой\n",
    "\n",
    "result1 = mean_squared_error(target_valid1, predictions_valid1) ** 0.5 # RMSE\n",
    "result1 = float('{:.3f}'.format(result1)) # также округлим\n",
    "print(\"Средний запас предсказанного сырья и RMSE модели линейной регрессии на валидационной выборке:\", mid1, '+-', result1)"
   ]
  },
  {
   "cell_type": "markdown",
   "metadata": {},
   "source": [
    "Для первого региона RMSE довольно большой относительно среднего, что не очень хорошо, теперь проверим эти значения для второго региона:"
   ]
  },
  {
   "cell_type": "code",
   "execution_count": 6,
   "metadata": {},
   "outputs": [
    {
     "name": "stdout",
     "output_type": "stream",
     "text": [
      "Средний запас предсказанного сырья и RMSE модели линейной регрессии на валидационной выборке: 68.729 +- 0.893\n"
     ]
    }
   ],
   "source": [
    "features2 = df2.drop(['product', 'id'], axis = 1)\n",
    "target2 = df2['product'] \n",
    "\n",
    "features_train2, features_valid2, target_train2, target_valid2 = train_test_split(\n",
    "    features2, target2, test_size=0.25, random_state=12345)\n",
    "\n",
    "model = LinearRegression()\n",
    "model.fit(features_train2, target_train2) \n",
    "predictions_valid2 = model.predict(features_valid2) # предсказания модели на валидационной выборке\n",
    "\n",
    "mid2 = predictions_valid2.mean() # средний запас предсказанный на валидационной выборке\n",
    "mid2 = float('{:.3f}'.format(mid2)) # округлим результат до 3 цифр после запятой\n",
    "\n",
    "result2 = mean_squared_error(target_valid2, predictions_valid2) ** 0.5 # RMSE\n",
    "result2 = float('{:.3f}'.format(result2)) # также округлим\n",
    "print(\"Средний запас предсказанного сырья и RMSE модели линейной регрессии на валидационной выборке:\", mid2, '+-', result2)"
   ]
  },
  {
   "cell_type": "markdown",
   "metadata": {},
   "source": [
    "Для второго региона средний запас сырья меньше, но RMSE гораздо меньше, что говорит о малой среднеквадратичной ошибке."
   ]
  },
  {
   "cell_type": "code",
   "execution_count": 7,
   "metadata": {},
   "outputs": [
    {
     "name": "stdout",
     "output_type": "stream",
     "text": [
      "Средний запас предсказанного сырья и RMSE модели линейной регрессии на валидационной выборке: 94.965 +- 40.03\n"
     ]
    }
   ],
   "source": [
    "features3 = df3.drop(['product', 'id'], axis = 1)\n",
    "target3 = df3['product'] \n",
    "\n",
    "features_train3, features_valid3, target_train3, target_valid3 = train_test_split(\n",
    "    features3, target3, test_size=0.25, random_state=12345)\n",
    "\n",
    "model = LinearRegression()\n",
    "model.fit(features_train3, target_train3) \n",
    "predictions_valid3 = model.predict(features_valid3) # предсказания модели на валидационной выборке\n",
    "\n",
    "mid3 = predictions_valid3.mean() # средний запас предсказанный на валидационной выборке\n",
    "mid3 = float('{:.3f}'.format(mid3)) # округлим результат до 3 цифр после запятой\n",
    "\n",
    "result3 = mean_squared_error(target_valid3, predictions_valid3) ** 0.5 # RMSE\n",
    "result3 = float('{:.3f}'.format(result3)) # также округлим\n",
    "print(\"Средний запас предсказанного сырья и RMSE модели линейной регрессии на валидационной выборке:\", mid3, '+-', result3)"
   ]
  },
  {
   "cell_type": "markdown",
   "metadata": {},
   "source": [
    "У последнего региона самое большое среднее, но также и самый большой корень из среднеквадратичной ошибки."
   ]
  },
  {
   "cell_type": "markdown",
   "metadata": {},
   "source": [
    "\n",
    "\n",
    "<div class=\"alert alert-block alert-success\">\n",
    "<b>Успех:</b> Шаг проделан хорошо, все метрики посчитаны корректно\n",
    "</div> \n",
    "\n",
    "\n",
    "<div class=\"alert alert-block alert-info\">\n",
    "<b>Совет: </b>  Можно было бы использовать циклы/функции и избежать дублирования кода. Дублирование кода, часто приводит к глупым ошибкам, которые тяжело отследить.\n",
    "</div>\n"
   ]
  },
  {
   "cell_type": "markdown",
   "metadata": {},
   "source": [
    "## Подготовка к расчёту прибыли"
   ]
  },
  {
   "cell_type": "markdown",
   "metadata": {},
   "source": [
    "Для начала предлагаю все считать в млрд рублей просто из соображений удобства, тогда основные величины будут следующими:"
   ]
  },
  {
   "cell_type": "code",
   "execution_count": 8,
   "metadata": {},
   "outputs": [],
   "source": [
    "TOTAL_COSTS = 10 # расходы на разработку скважин\n",
    "PRICE_BAR = 450000/(10**9) # цена единицы продукта\n",
    "NUM = 200 # кол-во скважин для разработки"
   ]
  },
  {
   "cell_type": "markdown",
   "metadata": {},
   "source": [
    "\n",
    "<div class=\"alert alert-block alert-info\">\n",
    "    \n",
    "<b>Совет:</b> Константы принято записывать в ВЕРХНЕМ РЕГИСТРЕ =) Читем здесь https://pythonworld.ru/osnovy/pep-8-rukovodstvo-po-napisaniyu-koda-na-python.html#section-29\n",
    "    \n",
    "А большие значение можно записывать так: `450_000`.\n",
    "</div> \n"
   ]
  },
  {
   "cell_type": "markdown",
   "metadata": {},
   "source": [
    "<div class=\"alert alert-block alert-warning\">\n",
    "<b>Изменения:</b> Переделал названия констант.\n",
    "</div>"
   ]
  },
  {
   "cell_type": "markdown",
   "metadata": {},
   "source": [
    "<div class=\"alert alert-block alert-success\">\n",
    "    \n",
    "<b>Успех[2]:</b> 👍\n",
    "</div>\n"
   ]
  },
  {
   "cell_type": "markdown",
   "metadata": {},
   "source": [
    "Теперь рассчитаем сколько единиц продукта в среднем должна добывать скважина для безубыточного производства:"
   ]
  },
  {
   "cell_type": "code",
   "execution_count": 9,
   "metadata": {},
   "outputs": [
    {
     "name": "stdout",
     "output_type": "stream",
     "text": [
      "Минимальное сырьё со всех скважин 22222.222222222223\n",
      "Минимальное сырьё в среднем с одной скважины 111.11111111111111\n"
     ]
    }
   ],
   "source": [
    "MIN_MEAN_PRODUCT = TOTAL_COSTS / (PRICE_BAR * NUM)\n",
    "MIN_PRODUCT = TOTAL_COSTS / PRICE_BAR\n",
    "print('Минимальное сырьё со всех скважин', MIN_PRODUCT)\n",
    "print('Минимальное сырьё в среднем с одной скважины', MIN_MEAN_PRODUCT)"
   ]
  },
  {
   "cell_type": "markdown",
   "metadata": {},
   "source": [
    "Чуть больше 111 единиц продукта должна добывать в среднем скважина, поэтому сразу можно сделать вывод, что 2 регион не подходит, 1 и 3 регионы входят в этот промежуток с погрешностями RMSE."
   ]
  },
  {
   "cell_type": "markdown",
   "metadata": {},
   "source": [
    "\n",
    "\n",
    "<div class=\"alert alert-block alert-success\">\n",
    "<b>Успех:</b> Значение для безубыточной разработки посчитано верно, с выводом согласен  \n",
    "</div>"
   ]
  },
  {
   "cell_type": "markdown",
   "metadata": {},
   "source": [
    "Напишем функцию расчёта прибыли, учитывая предыдущие показатели:"
   ]
  },
  {
   "cell_type": "code",
   "execution_count": 10,
   "metadata": {},
   "outputs": [],
   "source": [
    "def profit(target, predictions):\n",
    "    target.reset_index(drop= True , inplace= True)\n",
    "    predictions.reset_index(drop= True , inplace= True)\n",
    "    predictions_sorted = predictions.sort_values(ascending=False)[:NUM] # оставляем 200 лучших скважин по добыче сырья\n",
    "    selected = target[predictions_sorted.index]\n",
    "    return (selected.sum() - MIN_PRODUCT)  * PRICE_BAR # складываем всё сырьё и вычитаем из минимального сырья \n",
    "# и умножаем эту разницу на стоимость единицы сырья"
   ]
  },
  {
   "cell_type": "markdown",
   "metadata": {},
   "source": [
    "<div class=\"alert alert-block alert-danger\">\n",
    "<b>Ошибка:</b> Для выбора 200 лучших скважин нужно использовать предсказанные значения. А вот для подсчета прибыли должны использоваться настоящие значения соответствующих ячеек.\n",
    "\n",
    "</div>"
   ]
  },
  {
   "cell_type": "markdown",
   "metadata": {},
   "source": [
    "<div class=\"alert alert-block alert-warning\">\n",
    "<b>Изменения:</b> Теперь суммируются настоящие значения, а не предсказания. Цикл во 2 и 4 пунктах действительно недодумался сделать, но переделывать это довольно долго, хотелось бы приступить к сборному проекту, так как немного отстаю) На будущее учту)\n",
    "</div>"
   ]
  },
  {
   "cell_type": "markdown",
   "metadata": {},
   "source": [
    "<div class=\"alert alert-block alert-danger\">\n",
    "    \n",
    "<b>Ошибка[2]:</b> Да, теперь ф-ция определна логически верно, и я бы не хотел тебя задерживать, но увы  есть 1 неявный  и очень интересный недочет, на котороый я хотел бы обратить твое внимание: из-за того, что у нас техника бустрап выполняется с возвращением (replace=True), то могут отобраться скважины с одинаковым индексом, и тогда при подстановки предсказаний в таргеты мы получим не 200 скважин, а 200+ и прибыль получится завышенной (можешь вывести длину таргетов после подстановки - и убедишься в этом) \n",
    "\n",
    "    \n",
    "Тут нужно сбросить индексы для входных данных в начале функции прибыли. Или собрать таргеты и предсказания в датафрейм - тогда они и сэмплироваться и сортироватсья будут как единное целое.\n",
    "</div>\n"
   ]
  },
  {
   "cell_type": "markdown",
   "metadata": {},
   "source": [
    "## Расчёт прибыли и рисков "
   ]
  },
  {
   "cell_type": "markdown",
   "metadata": {},
   "source": [
    "С помощью Bootstrap оценим доверительный интервал в 0.95% для 1 и 3 региона:"
   ]
  },
  {
   "cell_type": "code",
   "execution_count": 11,
   "metadata": {},
   "outputs": [
    {
     "name": "stdout",
     "output_type": "stream",
     "text": [
      "Средняя выручка: 0.396164984802371\n",
      "97.5%-квантиль: 0.9097669415534224\n",
      "2.5%-квантиль: -0.11121554589049622\n",
      "Вероятность убытка: 6.9 %\n"
     ]
    }
   ],
   "source": [
    "state = np.random.RandomState(12345)\n",
    "\n",
    "target_valid1.reset_index(drop= True , inplace= True)\n",
    "predictions_valid1 = pd.Series(predictions_valid1)\n",
    "   \n",
    "values = []\n",
    "k = 0\n",
    "for i in range(1000):\n",
    "    # по условию из 500 скважин выбираются наилучшие по сырью, поэтому n = 500\n",
    "    target_valid_subsample1 = target_valid1.sample(n=500, replace=True, random_state=state)\n",
    "    predictions_valid_subsample1 = predictions_valid1[target_valid_subsample1.index]\n",
    "    \n",
    "    \n",
    "    values.append(profit(target_valid_subsample1, predictions_valid_subsample1))\n",
    "    if profit(target_valid_subsample1, predictions_valid_subsample1) < 0: # если прибыль отрицательная увеличиваем счётчик\n",
    "        k += 1\n",
    "\n",
    "bad_probability = (k / 1000) * 100 # вероятность убытка\n",
    "values = pd.Series(values)\n",
    "upper = values.quantile(0.975)\n",
    "lower = values.quantile(0.025)\n",
    "\n",
    "mean = values.mean()\n",
    "print(\"Средняя выручка:\", mean)\n",
    "print(\"97.5%-квантиль:\", upper)\n",
    "print(\"2.5%-квантиль:\", lower)\n",
    "print('Вероятность убытка:', bad_probability, '%')"
   ]
  },
  {
   "cell_type": "markdown",
   "metadata": {},
   "source": [
    "<div class=\"alert alert-block alert-success\">\n",
    "<b>Успех:</b> С бутстрапом  все в порядке, метрики считаются верным образом!  \n",
    "</div>\n",
    "\n",
    "<div class=\"alert alert-block alert-info\">\n",
    "<b>Совет: </b>\n",
    "    \n",
    "Риски можно лаконично считать в 1 строку: `(values < 0).mean() * 100`\n",
    "</div>          "
   ]
  },
  {
   "cell_type": "markdown",
   "metadata": {},
   "source": [
    "Для 1 региона вероятность убытка  - 6.9 %, что больше 2.5%, а средняя выручка в районе 0.4 млрд. Посмотрим на прибыль для 3 региона:"
   ]
  },
  {
   "cell_type": "code",
   "execution_count": 12,
   "metadata": {},
   "outputs": [
    {
     "name": "stdout",
     "output_type": "stream",
     "text": [
      "Средняя выручка: 0.40440386656835664\n",
      "97.5%-квантиль: 0.9503595749238002\n",
      "2.5%-квантиль: -0.16335041339560044\n",
      "Вероятность убытка: 7.6 %\n"
     ]
    }
   ],
   "source": [
    "state = np.random.RandomState(12345)\n",
    "\n",
    "target_valid3.reset_index(drop= True , inplace= True)\n",
    "predictions_valid3 = pd.Series(predictions_valid3)\n",
    "    \n",
    "values = []\n",
    "k = 0\n",
    "for i in range(1000):\n",
    "    # по условию из 500 скважин выбираются наилучшие по сырью, поэтому n = 500\n",
    "    target_valid_subsample3 = target_valid3.sample(n=500, replace=True, random_state=state)\n",
    "    predictions_valid_subsample3 = predictions_valid3[target_valid_subsample3.index]\n",
    "    \n",
    "    values.append(profit(target_valid_subsample3, predictions_valid_subsample3))\n",
    "    if profit(target_valid_subsample3, predictions_valid_subsample3) < 0: # если прибыль отрицательная увеличиваем счётчик\n",
    "        k += 1\n",
    "\n",
    "bad_probability = (k / 1000) * 100 # вероятность убытка\n",
    "values = pd.Series(values)\n",
    "upper = values.quantile(0.975)\n",
    "lower = values.quantile(0.025)\n",
    "\n",
    "mean = values.mean()\n",
    "print(\"Средняя выручка:\", mean)\n",
    "print(\"97.5%-квантиль:\", upper)\n",
    "print(\"2.5%-квантиль:\", lower)\n",
    "print('Вероятность убытка:', bad_probability, '%')"
   ]
  },
  {
   "cell_type": "markdown",
   "metadata": {},
   "source": [
    "\n",
    "<div class=\"alert alert-block alert-info\">\n",
    "<b>Совет: </b>\n",
    "   \n",
    "Здесь циклы/функции тоже были бы весьма кстати\n",
    "</div>"
   ]
  },
  {
   "cell_type": "markdown",
   "metadata": {},
   "source": [
    "Тут вероятность убытка выше, чем в первом регионе, а средняя прибыль чуть больше."
   ]
  },
  {
   "cell_type": "markdown",
   "metadata": {},
   "source": [
    "На всякий случай проверим и 2 регион:"
   ]
  },
  {
   "cell_type": "code",
   "execution_count": 13,
   "metadata": {},
   "outputs": [
    {
     "name": "stdout",
     "output_type": "stream",
     "text": [
      "Средняя выручка: -3.9749035884105286\n",
      "97.5%-квантиль: -3.536493095438133\n",
      "2.5%-квантиль: -4.435856538392783\n",
      "Вероятность убытка: 100.0 %\n"
     ]
    }
   ],
   "source": [
    "state = np.random.RandomState(12345)\n",
    "\n",
    "target_valid2.reset_index(drop= True , inplace= True)\n",
    "predictions_valid2 = pd.Series(predictions_valid2)\n",
    "    \n",
    "values = []\n",
    "k = 0\n",
    "for i in range(1000):\n",
    "    # по условию из 500 скважин выбираются наилучшие по сырью, поэтому n = 500\n",
    "    target_valid_subsample2 = target_valid2.sample(n=500, replace=True, random_state=state)\n",
    "    predictions_valid_subsample2 = predictions_valid2[target_valid_subsample2.index] \n",
    "    \n",
    "    values.append(profit(predictions_valid2, predictions_valid_subsample2))\n",
    "    if profit(target_valid2, predictions_valid_subsample2) < 0: # если прибыль отрицательная увеличиваем счётчик\n",
    "        k += 1\n",
    "\n",
    "bad_probability = (k / 1000) * 100 # вероятность убытка\n",
    "values = pd.Series(values)\n",
    "upper = values.quantile(0.975)\n",
    "lower = values.quantile(0.025)\n",
    "\n",
    "mean = values.mean()\n",
    "print(\"Средняя выручка:\", mean)\n",
    "print(\"97.5%-квантиль:\", upper)\n",
    "print(\"2.5%-квантиль:\", lower)\n",
    "print('Вероятность убытка:', bad_probability, '%')"
   ]
  },
  {
   "cell_type": "markdown",
   "metadata": {},
   "source": [
    "У второго региона вероятность убытка 100%, а значит предыдущий вывод, что он не подходит по средней добыче - верен. По всем результатам выберем 1 регион, так как там самая малая вероятность убытка (но все равно выше 2.5%), а среднее примерно такое же как в 3 регионе."
   ]
  },
  {
   "cell_type": "markdown",
   "metadata": {},
   "source": [
    "\n",
    "\n",
    "<div class=\"alert alert-block alert-info\">\n",
    "<b>Совет: </b>\n",
    "    \n",
    "Не забудь обновить выводы, если потребуется\n",
    "</div>                                                              \n"
   ]
  },
  {
   "cell_type": "markdown",
   "metadata": {},
   "source": [
    "<div class=\"alert alert-block alert-warning\">\n",
    "<b>Изменения:</b> Выводы изменены.\n",
    "<div>"
   ]
  },
  {
   "cell_type": "markdown",
   "metadata": {},
   "source": [
    "## Чек-лист готовности проекта"
   ]
  },
  {
   "cell_type": "markdown",
   "metadata": {},
   "source": [
    "Поставьте 'x' в выполненных пунктах. Далее нажмите Shift+Enter."
   ]
  },
  {
   "cell_type": "markdown",
   "metadata": {},
   "source": [
    "- [x]  Jupyter Notebook открыт\n",
    "- [x]  Весь код выполняется без ошибок\n",
    "- [x]  Ячейки с кодом расположены в порядке исполнения\n",
    "- [x]  Выполнен шаг 1: данные подготовлены\n",
    "- [x]  Выполнен шаг 2: модели обучены и проверены\n",
    "    - [x]  Данные корректно разбиты на обучающую и валидационную выборки\n",
    "    - [x]  Модели обучены, предсказания сделаны\n",
    "    - [x]  Предсказания и правильные ответы на валидационной выборке сохранены\n",
    "    - [x]  На экране напечатаны результаты\n",
    "    - [x]  Сделаны выводы\n",
    "- [x]  Выполнен шаг 3: проведена подготовка к расчёту прибыли\n",
    "    - [x]  Для всех ключевых значений созданы константы Python\n",
    "    - [x]  Посчитано минимальное среднее количество продукта в месторождениях региона, достаточное для разработки\n",
    "    - [x]  По предыдущему пункту сделаны выводы\n",
    "    - [x]  Написана функция расчёта прибыли\n",
    "- [x]  Выполнен шаг 4: посчитаны риски и прибыль\n",
    "    - [x]  Проведена процедура *Bootstrap*\n",
    "    - [x]  Все параметры бутстрепа соответствуют условию\n",
    "    - [x]  Найдены все нужные величины\n",
    "    - [x]  Предложен регион для разработки месторождения\n",
    "    - [x]  Выбор региона обоснован"
   ]
  },
  {
   "cell_type": "code",
   "execution_count": null,
   "metadata": {},
   "outputs": [],
   "source": []
  }
 ],
 "metadata": {
  "ExecuteTimeLog": [
   {
    "duration": 8,
    "start_time": "2023-08-02T08:03:23.262Z"
   },
   {
    "duration": 8969,
    "start_time": "2023-08-02T23:29:48.434Z"
   },
   {
    "duration": 805,
    "start_time": "2023-08-02T23:29:57.405Z"
   },
   {
    "duration": 20,
    "start_time": "2023-08-02T23:29:58.211Z"
   },
   {
    "duration": 37,
    "start_time": "2023-08-02T23:29:58.233Z"
   },
   {
    "duration": 120,
    "start_time": "2023-08-02T23:29:58.271Z"
   },
   {
    "duration": 123,
    "start_time": "2023-08-02T23:29:58.393Z"
   },
   {
    "duration": 197,
    "start_time": "2023-08-02T23:29:58.519Z"
   },
   {
    "duration": 75,
    "start_time": "2023-08-02T23:29:58.718Z"
   },
   {
    "duration": 93,
    "start_time": "2023-08-02T23:29:58.796Z"
   },
   {
    "duration": 19,
    "start_time": "2023-08-02T23:29:58.892Z"
   },
   {
    "duration": 1926,
    "start_time": "2023-08-02T23:29:58.913Z"
   },
   {
    "duration": 1898,
    "start_time": "2023-08-02T23:30:00.840Z"
   },
   {
    "duration": 1446,
    "start_time": "2023-08-02T23:30:02.739Z"
   },
   {
    "duration": 3,
    "start_time": "2023-08-02T23:30:23.601Z"
   },
   {
    "duration": 2014,
    "start_time": "2023-08-02T23:30:24.609Z"
   },
   {
    "duration": 1991,
    "start_time": "2023-08-02T23:30:26.625Z"
   },
   {
    "duration": 1603,
    "start_time": "2023-08-02T23:30:28.617Z"
   },
   {
    "duration": 4,
    "start_time": "2023-08-02T23:30:31.351Z"
   },
   {
    "duration": 1909,
    "start_time": "2023-08-02T23:30:32.382Z"
   },
   {
    "duration": 1936,
    "start_time": "2023-08-02T23:30:34.293Z"
   },
   {
    "duration": 1482,
    "start_time": "2023-08-02T23:30:36.781Z"
   }
  ],
  "kernelspec": {
   "display_name": "Python 3 (ipykernel)",
   "language": "python",
   "name": "python3"
  },
  "language_info": {
   "codemirror_mode": {
    "name": "ipython",
    "version": 3
   },
   "file_extension": ".py",
   "mimetype": "text/x-python",
   "name": "python",
   "nbconvert_exporter": "python",
   "pygments_lexer": "ipython3",
   "version": "3.9.16"
  },
  "toc": {
   "base_numbering": 1,
   "nav_menu": {},
   "number_sections": true,
   "sideBar": true,
   "skip_h1_title": true,
   "title_cell": "Table of Contents",
   "title_sidebar": "Contents",
   "toc_cell": false,
   "toc_position": {},
   "toc_section_display": true,
   "toc_window_display": false
  }
 },
 "nbformat": 4,
 "nbformat_minor": 2
}
