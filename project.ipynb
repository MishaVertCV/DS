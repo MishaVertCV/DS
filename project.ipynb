{
 "cells": [
  {
   "cell_type": "markdown",
   "metadata": {},
   "source": [
    "<div class=\"alert alert-success\">\n",
    "<b>КОММЕНТАРИЙ V2</b>\n",
    "\n",
    "Итак, мои комментарии на этот раз будут зелёными, в заголовке иметь версию V2 (как у этого!) и в них я буду стараться ответить на твои вопросы, если таковые увижу (мелкие/\"проходные\" изменения/исправления в тексте проекта, каждое из них, не буду с твоего позволения комментировать - только те моменты, где я что-то более-менее не банальное могу сказать. Хорошо? Будем считать, что, если комментария на твое исправление нет - значит я согласен с тобой в этом пункте).\n",
    "\n",
    "Если же после факта принятия проекта у тебя возникнут дополнительные вопросы – я никуда не пропал. Мой адрес эл/почты: anepomnjashiy@gmail.com, имя в Пачке: anepomnjashiy, имя в Телеграмме: https://t.me/aleks_nep\n",
    "\n",
    "---\n",
    "Михаил, я вижу, что все красные комментарии учтены, код исправлен, выводы актуализированы. Соответственно никаких вопросов/моментов/комментариев, мешающих принять твой проект у меня более нет.\n",
    "\n",
    "ПРОЕКТ ПРИНЯТ!\n",
    "    \n",
    "Я же в свою очередь, ниже попытался ответить на все твои вопросы (если видел, что они есть).\n",
    "\n",
    "Желаю тебе успехов в учёбе, желаю, чтобы проекты сдавались или сразу, или после первой итерации! Удачи!\n",
    "\n",
    "Если же после факта принятия проекта у тебя возникнут дополнительные вопросы – я никуда не пропал. Мой адрес эл/почты: anepomnjashiy@gmail.com, имя в Пачке: anepomnjashiy, имя в Телеграмме: https://t.me/aleks_nep\n",
    "\n",
    "p.s. я тебе на твой адрес эл/почты сейчас вышлю некоторые материалы из своей электронной библиотеки - надеюсь они будут тебе полезны в учёбе.\n",
    "</div>\n"
   ]
  },
  {
   "cell_type": "code",
   "execution_count": null,
   "metadata": {},
   "outputs": [],
   "source": []
  },
  {
   "cell_type": "markdown",
   "metadata": {},
   "source": [
    "Приветствую Михаил! \n",
    "\n",
    "Меня зовут Александр Непомнящий и я буду проверять твой проект. Предлагаю общаться на «ты» :))) Но, если это не удобно - мы вполне можем перейти на вы\".\n",
    "\n",
    "Вкратце обо мне: я работаю в сфере информационных технологий, аналитика (анализ) данных - это и мой рабочий функционал и личная, интересная мне область для саморазвития. Используемый стек: python, pandas, графические библиотеки matplotlib/seaborn/plotly. Сфера применения: маркетинговая аналитика в медицинской клинике (Клиника «Кивач», www.kivach.ru, республика Карелия). Если вдруг есть вопрос – что делает аналитик в коммерческой медицине – то вот короткий ответ. Самый главный вопрос, на который мы хотим получить ответ (и который в дальнейшем приведёт к перераспределению рекламного бюджета, плюс напрямую повлияет на разработку и предложению рынку новых лечебных программ) - это КТО ОН, НАШ КЛИЕНТ? Фактически это задача (на нашем внутреннем языке формулируется как построение и анализ «ПОРТРЕТА КЛИЕНТА»). Визуализируем и пытаемся придать смысл половозрастным данным наших клиентов, кто из какого региона и в какие времена года к нам приезжает. Учитываем количество приездов. Учитываем на какую программу этот конкретный клиент приехал в первый раз и как в дальнейшем меняются его предпочтения. Пытаемся построить модель оттока и спрогнозировать, когда клиент уйдёт в отток. Смотрим цифры (суммы трат клиентов на отдельных группах медицинских программ). Анализируем медицинские услуги, которые входят в путёвку, а также что, в каких количествах и на какую сумму клиент покупает дополнительно. Очень вкратце как-то так.\n",
    "\n",
    "Теперь к сути: основная цель моей проверки - пройти по шагам, по логике твоего решения и обсудить те моменты, которые можно изменить, улучшить, довести до идеала. Такой формат работы двух программистов (аналитиков) ты или уже встречал(а), или встретишь на своей новой работе. Кто-то такой процесс называет \"код-ревью\", ну а как по мне, так это обмен опытом двух коллег, когда каждый из нас становиться лучше в процессе дискуссии.\n",
    "\n",
    "Свои мысли, советы, комментарии и вопросы я буду оставлять в текстовых ячейках (markdown) ПОД твоим кодом. \n",
    "Для твоего удобства все эти заметки будут \"цветными\", как на примерах ниже:\n",
    "\n",
    "\"Зелеными\" комментариями я буду отмечать твой элегантный (\"красивый\") код и/или удачные решения, на которые ты можешь смело опираться в будущих проектах.\n",
    "<div class=\"alert alert-success\">\n",
    "<b>Отлично! 👍</b>\n",
    "\n",
    "Отличная находка, элегантный код ...</div>\n",
    "\n",
    "\"Жёлтые\" комментарии - это мои размышления, предложения, что-то, что на следующей итерации можно сделать по-другому. Твоя реакция на \"жёлтые\" комментарий необходима и подразумевает или правки, или реакцию или аргументированное согласие/не согласие. Я искренне верю, что наш двусторонний диалог под \"желтым\" комментарием - это то, от чего твой проект только выиграет. <div class=\"alert alert-warning\">\n",
    "<b>Комментарий 👉</b>\n",
    "\n",
    "Здесь я бы предложил использовать .... Мои аргументы в пользу этого ...</div>\n",
    "\n",
    "\"Красные\" комментарий будут появляться, когда что-то пойдёт не так: например, код будет выдавать ошибку. Или, когда в проекте не будет ответов на основные вопросы, ради которых весь анализ и выполнялся. \"Красные\" комментарии необходимо будет исправить, прежде чем я смогу принять проект.\n",
    "<div class=\"alert alert-danger\">\n",
    "<b>Необходимо исправить ❌</b>\n",
    "\n",
    "В этой ячейке код работает не так как задумано ...</div>\n",
    "\n",
    "Пожалуйста, не перемещай, не изменяй и не удаляй мои комментарии. Это поможет мне оперативно выполнить повторную проверку твоего проекта.\n",
    "\n",
    "Давай работать над проектом в диалоге: если ты что-то меняешь в проекте по моим рекомендациям — пиши об этом, лучше всего в новой ячейке, сразу под моим комментарием. Если для своих комментариев ты будешь использовать какой-то заметный цвет, то мне будет легче отследить твои изменения, например так:\n",
    "<div style=\"background: #B0E0E6; padding: 5px; border: 1px solid SteelBlue; border-radius: 5px;\">\n",
    "    <font color='4682B4'><u><b>КОММЕНТАРИЙ СТУДЕНТА</b></u></font>\n",
    "    <br />\n",
    "    <font color='4682B4'>Текст твоего комментария ...</font>\n",
    "</div>\n",
    "\n",
    "**Распространенные типичные недочёты в проектах студентов:**\n",
    "\n",
    "<div class=\"alert alert-danger\" ❌>\n",
    "Неработоспособный код. Проверь проект на работоспособность перед отправкой на проверку. Это важный навык, который тебе пригодится как на собеседовании, при выполнении тестового задания, так и перед совещанием у руководства компании.</div>\n",
    "<div class=\"alert alert-danger\" ❌>\n",
    "Проект не структурирован. В проекте должна быть структура, т.е. названия разделов и подразделов должны быть записаны в ячейках Markdown.</div>\n",
    "<div class=\"alert alert-warning\" 👉 >\n",
    "Отсутствие описания, целей проекта, его задач, выводов. В описании должны быть озвучены поставленные задачи, содержание датасета, промежуточные и финальные выводы. Как правило, заказчик читает только финальный вывод, поэтому важно добавить информацию о проведенном исследовании, применить форматирование текста, в общем, сделать красиво, чтобы было понятно, что проведено настоящее исследование и выводу можно верить.</div>  \n",
    "<div class=\"alert alert-warning\" 👉 >\n",
    "\"Длинный код\". Код и и комментарии, которые прячутся за правым концом ячейки нужно переносить на новую строку. Твои будущие коллеги не оценят необходимость постоянного скроллинга. Согласно PEP8: https://www.python.org/dev/peps/pep-0008/ длина строки не должна превышать 79 символов.</div>\n",
    "<div class=\"alert alert-warning\" 👉 >\n",
    "Твои коллеги ценят и твое и своё время, поэтому \"подсвечивай\" свои комментарии в ячейках Markdown. Подробнее про синтаксис Markdown, с примерами, можно почитать здесь: https://paulradzkov.com/2014/markdown_cheatsheet/?\n",
    "</div>\n"
   ]
  },
  {
   "cell_type": "code",
   "execution_count": null,
   "metadata": {},
   "outputs": [],
   "source": []
  },
  {
   "cell_type": "markdown",
   "metadata": {},
   "source": [
    "<div class=\"alert alert-warning\">\n",
    "<b>Комментарий 👉</b>\n",
    "\n",
    "Небольшая вводная перед исследованием даст быстрое понимание о том, чему оно посвящено. Я настоятельно рекомендую тебе оформить введение и добавить цели и задачи. \n",
    "\n",
    "Например так:\n",
    "    \n",
    "____    \n",
    "    \n",
    "**Название проекта**\n",
    "_____\n",
    "**Описание исследования.**\n",
    "    \n",
    "_____\n",
    "**Цель исследования.**\n",
    "    \n",
    "Суть исследования. Например: \n",
    "\n",
    "Провести анализ данных при помощи которых предприятие разработает стратегию взаимодействия с клиентами.\n",
    "    \n",
    "_____\n",
    "**Задачи исследования.**\n",
    "\n",
    "Действия, необходимые для достижения поставленной цели.\n",
    "_____\n",
    "**Исходные данные.**\n",
    "    \n",
    "Здесь описываешь исходные таблицы.\n",
    "______\n",
    "\n",
    "**Данное исследование разделим на несколько частей.**\n",
    "\n",
    "***Часть 1. Изучение общей информации:***\n",
    "* [1. Изученеие файлов с данными, получение общей информации, загрузка библиотек.](#1-bullet)\n",
    "* [2. Нахождение и ликвидация пропусков.](#2-bullet)\n",
    "\n",
    "***Часть 2. Подготовка данных:***\n",
    "* [1. Приведение данных к нужным типам.](#3-bullet)\n",
    "* [2. Нахождение и исправление аномалий и ошибок.](#4-bullet)\n",
    "\n",
    "и т.д\n",
    "\n",
    "Старайся выполнять свой проект в порядке, прописанном в твоем плане. Да, такое оформление займет больше времени, но затем позволит быстро и последовательно идти по шагам выполнения.\n",
    "_________________\n",
    "\n",
    "Обрати внимание, что пункты в частях у меня в виде ссылок. Это очень удобно, когда нужно переходить по разным частям проекта.\n",
    "Вот тут почитай, как сделать <a href=\"https://sebastianraschka.com/Articles/2014_ipython_internal_links.html\">кликабельные разделы</a>. Кликабельность сама по себе не обязательна, но план и цели, хотя бы кратко всегда прописывать желательно.\n",
    "\n",
    "**Почему это важно?** Когда ты будешь в будущем выполнять тестовые задания, просто скопировав присланную тебе задачу и не составив плана, ты можешь этим смутить своего будущего работодателя. А чётко структурированный план покажет тебя как логично и системно думающего аналитика. Также такой подход научит тебя структурировать исследование и не путаться при работе с большими проектами.\n",
    "</div>\n"
   ]
  },
  {
   "cell_type": "code",
   "execution_count": null,
   "metadata": {},
   "outputs": [],
   "source": []
  },
  {
   "cell_type": "markdown",
   "metadata": {},
   "source": [
    "# Анализ интернет- магазина \"Стримчик\"\n",
    "\n",
    "Интернет-магазин «Стримчик» продаёт по всему миру компьютерные игры. Из открытых источников доступны исторические данные о продажах игр, оценки пользователей и экспертов, жанры и платформы (например, Xbox или PlayStation). Необходимо выявить определяющие успешность игры закономерности. Это позволит сделать ставку на потенциально популярный продукт и спланировать рекламные кампании."
   ]
  },
  {
   "cell_type": "markdown",
   "metadata": {},
   "source": [
    "**Цель иссследования:**"
   ]
  },
  {
   "cell_type": "markdown",
   "metadata": {},
   "source": [
    "- изучить общую информацию о продаже игр и обработать её\n",
    "- провести исследовательский анализ данных по разным критериям\n",
    "- составить портрет пользователя каждого региона\n",
    "- проверить гипотезы"
   ]
  },
  {
   "cell_type": "markdown",
   "metadata": {},
   "source": [
    "**Задачи иследования:**"
   ]
  },
  {
   "cell_type": "markdown",
   "metadata": {},
   "source": [
    "- посмотреть на датафрейм 'games.csv' и выявить искажения в данных \n",
    "- устранить искажения (пропуски, тип данных в столбце, названия столбцов)\n",
    "- проанализировать продажи игр по годам, платформам, жанрам и рейтингам\n",
    "- проанализировать продажи игр по регионам, выявить самые популярные платфромы, жанры и рейтинг ESRB в этих регионах\n",
    "- проверить 2 гипотезы"
   ]
  },
  {
   "cell_type": "markdown",
   "metadata": {},
   "source": [
    "**Исходные данные:**"
   ]
  },
  {
   "cell_type": "markdown",
   "metadata": {},
   "source": [
    "CSV файл 'games.csv'"
   ]
  },
  {
   "cell_type": "markdown",
   "metadata": {},
   "source": [
    "## Изучим общую информацию"
   ]
  },
  {
   "cell_type": "code",
   "execution_count": 1,
   "metadata": {},
   "outputs": [],
   "source": [
    "import pandas as pd\n",
    "import matplotlib.pyplot as plt\n",
    "import numpy as np\n",
    "from scipy import stats as st\n",
    "import seaborn as sns"
   ]
  },
  {
   "cell_type": "code",
   "execution_count": 2,
   "metadata": {},
   "outputs": [],
   "source": [
    "try:\n",
    "    df = pd.read_csv('/datasets/games.csv', sep = ',')\n",
    "except:\n",
    "    df = pd.read_csv('https://code.s3.yandex.net/datasets/games.csv', sep = ',')"
   ]
  },
  {
   "cell_type": "markdown",
   "metadata": {},
   "source": [
    "<div class=\"alert alert-success\">\n",
    "<b>ОТЛИЧНО! 👍</b>\n",
    "\n",
    "Здесь хорошо! При такой загрузке данных и тебе комфортно работать с проектом на домашнем ПК и у меня всё ОК во время проверки проекта в Юпитер Хабе</div>"
   ]
  },
  {
   "cell_type": "code",
   "execution_count": 3,
   "metadata": {},
   "outputs": [
    {
     "name": "stdout",
     "output_type": "stream",
     "text": [
      "<class 'pandas.core.frame.DataFrame'>\n",
      "RangeIndex: 16715 entries, 0 to 16714\n",
      "Data columns (total 11 columns):\n",
      " #   Column           Non-Null Count  Dtype  \n",
      "---  ------           --------------  -----  \n",
      " 0   Name             16713 non-null  object \n",
      " 1   Platform         16715 non-null  object \n",
      " 2   Year_of_Release  16446 non-null  float64\n",
      " 3   Genre            16713 non-null  object \n",
      " 4   NA_sales         16715 non-null  float64\n",
      " 5   EU_sales         16715 non-null  float64\n",
      " 6   JP_sales         16715 non-null  float64\n",
      " 7   Other_sales      16715 non-null  float64\n",
      " 8   Critic_Score     8137 non-null   float64\n",
      " 9   User_Score       10014 non-null  object \n",
      " 10  Rating           9949 non-null   object \n",
      "dtypes: float64(6), object(5)\n",
      "memory usage: 1.4+ MB\n"
     ]
    },
    {
     "data": {
      "text/html": [
       "<div>\n",
       "<style scoped>\n",
       "    .dataframe tbody tr th:only-of-type {\n",
       "        vertical-align: middle;\n",
       "    }\n",
       "\n",
       "    .dataframe tbody tr th {\n",
       "        vertical-align: top;\n",
       "    }\n",
       "\n",
       "    .dataframe thead th {\n",
       "        text-align: right;\n",
       "    }\n",
       "</style>\n",
       "<table border=\"1\" class=\"dataframe\">\n",
       "  <thead>\n",
       "    <tr style=\"text-align: right;\">\n",
       "      <th></th>\n",
       "      <th>Name</th>\n",
       "      <th>Platform</th>\n",
       "      <th>Year_of_Release</th>\n",
       "      <th>Genre</th>\n",
       "      <th>NA_sales</th>\n",
       "      <th>EU_sales</th>\n",
       "      <th>JP_sales</th>\n",
       "      <th>Other_sales</th>\n",
       "      <th>Critic_Score</th>\n",
       "      <th>User_Score</th>\n",
       "      <th>Rating</th>\n",
       "    </tr>\n",
       "  </thead>\n",
       "  <tbody>\n",
       "    <tr>\n",
       "      <th>0</th>\n",
       "      <td>Wii Sports</td>\n",
       "      <td>Wii</td>\n",
       "      <td>2006.0</td>\n",
       "      <td>Sports</td>\n",
       "      <td>41.36</td>\n",
       "      <td>28.96</td>\n",
       "      <td>3.77</td>\n",
       "      <td>8.45</td>\n",
       "      <td>76.0</td>\n",
       "      <td>8</td>\n",
       "      <td>E</td>\n",
       "    </tr>\n",
       "    <tr>\n",
       "      <th>1</th>\n",
       "      <td>Super Mario Bros.</td>\n",
       "      <td>NES</td>\n",
       "      <td>1985.0</td>\n",
       "      <td>Platform</td>\n",
       "      <td>29.08</td>\n",
       "      <td>3.58</td>\n",
       "      <td>6.81</td>\n",
       "      <td>0.77</td>\n",
       "      <td>NaN</td>\n",
       "      <td>NaN</td>\n",
       "      <td>NaN</td>\n",
       "    </tr>\n",
       "    <tr>\n",
       "      <th>2</th>\n",
       "      <td>Mario Kart Wii</td>\n",
       "      <td>Wii</td>\n",
       "      <td>2008.0</td>\n",
       "      <td>Racing</td>\n",
       "      <td>15.68</td>\n",
       "      <td>12.76</td>\n",
       "      <td>3.79</td>\n",
       "      <td>3.29</td>\n",
       "      <td>82.0</td>\n",
       "      <td>8.3</td>\n",
       "      <td>E</td>\n",
       "    </tr>\n",
       "    <tr>\n",
       "      <th>3</th>\n",
       "      <td>Wii Sports Resort</td>\n",
       "      <td>Wii</td>\n",
       "      <td>2009.0</td>\n",
       "      <td>Sports</td>\n",
       "      <td>15.61</td>\n",
       "      <td>10.93</td>\n",
       "      <td>3.28</td>\n",
       "      <td>2.95</td>\n",
       "      <td>80.0</td>\n",
       "      <td>8</td>\n",
       "      <td>E</td>\n",
       "    </tr>\n",
       "    <tr>\n",
       "      <th>4</th>\n",
       "      <td>Pokemon Red/Pokemon Blue</td>\n",
       "      <td>GB</td>\n",
       "      <td>1996.0</td>\n",
       "      <td>Role-Playing</td>\n",
       "      <td>11.27</td>\n",
       "      <td>8.89</td>\n",
       "      <td>10.22</td>\n",
       "      <td>1.00</td>\n",
       "      <td>NaN</td>\n",
       "      <td>NaN</td>\n",
       "      <td>NaN</td>\n",
       "    </tr>\n",
       "  </tbody>\n",
       "</table>\n",
       "</div>"
      ],
      "text/plain": [
       "                       Name Platform  Year_of_Release         Genre  NA_sales  \\\n",
       "0                Wii Sports      Wii           2006.0        Sports     41.36   \n",
       "1         Super Mario Bros.      NES           1985.0      Platform     29.08   \n",
       "2            Mario Kart Wii      Wii           2008.0        Racing     15.68   \n",
       "3         Wii Sports Resort      Wii           2009.0        Sports     15.61   \n",
       "4  Pokemon Red/Pokemon Blue       GB           1996.0  Role-Playing     11.27   \n",
       "\n",
       "   EU_sales  JP_sales  Other_sales  Critic_Score User_Score Rating  \n",
       "0     28.96      3.77         8.45          76.0          8      E  \n",
       "1      3.58      6.81         0.77           NaN        NaN    NaN  \n",
       "2     12.76      3.79         3.29          82.0        8.3      E  \n",
       "3     10.93      3.28         2.95          80.0          8      E  \n",
       "4      8.89     10.22         1.00           NaN        NaN    NaN  "
      ]
     },
     "execution_count": 3,
     "metadata": {},
     "output_type": "execute_result"
    }
   ],
   "source": [
    "df.info()\n",
    "df.head()"
   ]
  },
  {
   "cell_type": "markdown",
   "metadata": {},
   "source": [
    "Сразу бросается в глаза большое кол-во пропусков, заголовки столбцов не приведённые к нижнему регистру и значения по типу <целое число>.0 - их можно привести к int вместо float."
   ]
  },
  {
   "cell_type": "markdown",
   "metadata": {},
   "source": [
    "<div class=\"alert alert-success\">\n",
    "<b>ОТЛИЧНО! 👍</b>\n",
    "\n",
    "Спасибо за точный и конкретный вывод по предварительному анализу загруженных данных. Зачастую коллеги ограничиваются исключительно кодом, без слов. Ввиду чего непонятно к каким выводам они пришли и что собираются делать дальше.</div>"
   ]
  },
  {
   "cell_type": "markdown",
   "metadata": {},
   "source": [
    "## Подготовим данные"
   ]
  },
  {
   "cell_type": "markdown",
   "metadata": {},
   "source": [
    "### Переименуем столбцы"
   ]
  },
  {
   "cell_type": "markdown",
   "metadata": {},
   "source": [
    "Приведём названия столбцов к нижнему регистру (можно через rename(), но так проще и быстрее):"
   ]
  },
  {
   "cell_type": "code",
   "execution_count": 4,
   "metadata": {},
   "outputs": [
    {
     "name": "stdout",
     "output_type": "stream",
     "text": [
      "<class 'pandas.core.frame.DataFrame'>\n",
      "RangeIndex: 16715 entries, 0 to 16714\n",
      "Data columns (total 11 columns):\n",
      " #   Column           Non-Null Count  Dtype  \n",
      "---  ------           --------------  -----  \n",
      " 0   name             16713 non-null  object \n",
      " 1   platform         16715 non-null  object \n",
      " 2   year_of_release  16446 non-null  float64\n",
      " 3   genre            16713 non-null  object \n",
      " 4   na_sales         16715 non-null  float64\n",
      " 5   eu_sales         16715 non-null  float64\n",
      " 6   jp_sales         16715 non-null  float64\n",
      " 7   other_sales      16715 non-null  float64\n",
      " 8   critic_score     8137 non-null   float64\n",
      " 9   user_score       10014 non-null  object \n",
      " 10  rating           9949 non-null   object \n",
      "dtypes: float64(6), object(5)\n",
      "memory usage: 1.4+ MB\n"
     ]
    }
   ],
   "source": [
    "df.columns = map(str.lower, df.columns)\n",
    "df.info()"
   ]
  },
  {
   "cell_type": "markdown",
   "metadata": {},
   "source": [
    "<div class=\"alert alert-warning\">\n",
    "<b>Комментарий 👉</b>\n",
    "\n",
    "Так можно, но можно и ещё проще (с точки зрения количества кода) сделать это через str.lower().\n",
    "</div>"
   ]
  },
  {
   "cell_type": "markdown",
   "metadata": {},
   "source": [
    "### Преобразуем тип данных в столбцах, где это необходимо"
   ]
  },
  {
   "cell_type": "markdown",
   "metadata": {},
   "source": [
    "Для начала проверим нет ли пропусков в столбцах, где float значения можно заменить на int:"
   ]
  },
  {
   "cell_type": "code",
   "execution_count": 5,
   "metadata": {},
   "outputs": [
    {
     "data": {
      "text/plain": [
       "year_of_release     269\n",
       "critic_score       8578\n",
       "dtype: int64"
      ]
     },
     "execution_count": 5,
     "metadata": {},
     "output_type": "execute_result"
    }
   ],
   "source": [
    "df[['year_of_release', 'critic_score']].isna().sum()"
   ]
  },
  {
   "cell_type": "markdown",
   "metadata": {},
   "source": [
    "Пропуски в столбце с годом релиза игры могут быть из-за того, что он неизвестен. Огромное кол-во пропусков в оценках критиков может быть из-за того что игру в принципе не оценивали (например она не очень популярна) или из-за того что это новая игра и ещё не успели поставить оценку. Заполним пропуски в столбце с оценкой критиков нулём, чтобы привести к int, а пропуски в столбце с годом релиза просто удалим так как их немного относительно всего датафрейма:"
   ]
  },
  {
   "cell_type": "markdown",
   "metadata": {},
   "source": [
    "<div class=\"alert alert-danger\">\n",
    "<b>Необходимо исправить ❌</b>\n",
    "\n",
    "**Прежде чем производить какие-либо модификации данных (удалять дубликаты / удалять пропуски / заполнять пропуски «заглушкой / оставлять пропуски «как есть») хотелось бы порассуждать на тему природы пропусков в наших данных**.\n",
    "\n",
    "Одна из задач этого проекта (согласно брифа): \n",
    "\n",
    "1. Объясните, почему заполнили пропуски определённым образом или почему не стали это делать, \n",
    "\n",
    "2. Опишите причины, которые могли привести к пропускам \n",
    "\n",
    "3. Обратите внимание на аббревиатуру 'tbd' в столбце с оценкой пользователей. Отдельно разберите это значение и опишите, как его обработать.\n",
    "\n",
    "4. Также, скажи пожалуйста, какова на твой взгляд причина того, что в столбце с оценками экспертов, с оценками пользователей и с рейтингами так много пропусков? Как ты считаешь, может ли быть какая-то связь с тем, что в столбце с рейтингами >40% пропусков и тем кто эти рейтинги выставляет?</div>"
   ]
  },
  {
   "cell_type": "markdown",
   "metadata": {},
   "source": [
    "<div class=\"alert alert-warning\">\n",
    "<b>Комментарий 👉</b>\n",
    "\n",
    "Я бы после анализа удалил эти записи (с пропусками в годах ... что нам скажут записи относящиеся к 0му году?). Их всего 269 (из 16+ тысяч), меньше 2%. \"Погоды\" они нам не сделают (число этих строк объективно невелико).\n",
    "</div>"
   ]
  },
  {
   "cell_type": "markdown",
   "metadata": {},
   "source": [
    "<div style=\"background: #B0E0E6; padding: 5px; border: 1px solid SteelBlue; border-radius: 5px;\">\n",
    "    <font color='4682B4'><u><b>Миша</b></u></font>\n",
    "    <br />\n",
    "    <font color='4682B4'>Объяснил пропуски и удалил строчки с пропусками в столбце с годом релиза</font>\n",
    "</div>"
   ]
  },
  {
   "cell_type": "markdown",
   "metadata": {},
   "source": [
    "<div class=\"alert alert-success\">\n",
    "<b>КОММЕНТАРИЙ V2</b>\n",
    "\n",
    "Да, хорошо, ряд предположений, касаемо \"природы пропусков\" высказан корректно - вижу рассуждения на тему пропусков в соответствующих столбцах.\n",
    "</div>\n"
   ]
  },
  {
   "cell_type": "code",
   "execution_count": 6,
   "metadata": {},
   "outputs": [
    {
     "data": {
      "text/plain": [
       "year_of_release    0\n",
       "critic_score       0\n",
       "dtype: int64"
      ]
     },
     "execution_count": 6,
     "metadata": {},
     "output_type": "execute_result"
    }
   ],
   "source": [
    "df['critic_score'] = df['critic_score'].fillna(0)\n",
    "df = df.dropna(subset=['year_of_release'])\n",
    "df[['year_of_release', 'critic_score']].isna().sum()"
   ]
  },
  {
   "cell_type": "markdown",
   "metadata": {},
   "source": [
    "Приведём к int:"
   ]
  },
  {
   "cell_type": "code",
   "execution_count": 7,
   "metadata": {},
   "outputs": [
    {
     "data": {
      "text/plain": [
       "name                object\n",
       "platform            object\n",
       "year_of_release      int64\n",
       "genre               object\n",
       "na_sales           float64\n",
       "eu_sales           float64\n",
       "jp_sales           float64\n",
       "other_sales        float64\n",
       "critic_score         int64\n",
       "user_score          object\n",
       "rating              object\n",
       "dtype: object"
      ]
     },
     "execution_count": 7,
     "metadata": {},
     "output_type": "execute_result"
    }
   ],
   "source": [
    "df[['year_of_release', 'critic_score']] = df[['year_of_release', 'critic_score']].astype(int)\n",
    "df.dtypes"
   ]
  },
  {
   "cell_type": "markdown",
   "metadata": {},
   "source": [
    "Также столбец 'user_score' имеет формат object хотя в нём только числовые значения и пропуски, приведём его к типу float, но для начала посмотрим уникальные значения:"
   ]
  },
  {
   "cell_type": "code",
   "execution_count": 8,
   "metadata": {},
   "outputs": [
    {
     "data": {
      "text/plain": [
       "array(['8', nan, '8.3', '8.5', '6.6', '8.4', '8.6', '7.7', '6.3', '7.4',\n",
       "       '8.2', '9', '7.9', '8.1', '8.7', '7.1', '3.4', '5.3', '4.8', '3.2',\n",
       "       '8.9', '6.4', '7.8', '7.5', '2.6', '7.2', '9.2', '7', '7.3', '4.3',\n",
       "       '7.6', '5.7', '5', '9.1', '6.5', 'tbd', '8.8', '6.9', '9.4', '6.8',\n",
       "       '6.1', '6.7', '5.4', '4', '4.9', '4.5', '9.3', '6.2', '4.2', '6',\n",
       "       '3.7', '4.1', '5.8', '5.6', '5.5', '4.4', '4.6', '5.9', '3.9',\n",
       "       '3.1', '2.9', '5.2', '3.3', '4.7', '5.1', '3.5', '2.5', '1.9', '3',\n",
       "       '2.7', '2.2', '2', '9.5', '2.1', '3.6', '2.8', '1.8', '3.8', '0',\n",
       "       '1.6', '9.6', '2.4', '1.7', '1.1', '0.3', '1.5', '0.7', '1.2',\n",
       "       '2.3', '0.5', '1.3', '0.2', '0.6', '1.4', '0.9', '1', '9.7'],\n",
       "      dtype=object)"
      ]
     },
     "execution_count": 8,
     "metadata": {},
     "output_type": "execute_result"
    }
   ],
   "source": [
    "df['user_score'].unique()"
   ]
  },
  {
   "cell_type": "markdown",
   "metadata": {},
   "source": [
    "Есть стринговое значение 'tbd', что значит 'to be announced', т. е. эти значения ещё неизвестны - значит их можно считать пропусками, заполним их NaN и приведём к float:"
   ]
  },
  {
   "cell_type": "markdown",
   "metadata": {},
   "source": [
    "<div class=\"alert alert-success\">\n",
    "<b>ОТЛИЧНО! 👍</b>\n",
    "\n",
    "То, что ты tbd меняешь на NaN - это правильно. По сути это и есть пропуски (строки с играми, для которых оценка не проставлена, пропущена по каким-то причинам).</div>"
   ]
  },
  {
   "cell_type": "code",
   "execution_count": 9,
   "metadata": {},
   "outputs": [
    {
     "data": {
      "text/plain": [
       "0"
      ]
     },
     "execution_count": 9,
     "metadata": {},
     "output_type": "execute_result"
    }
   ],
   "source": [
    "df.loc[df['user_score'] == 'tbd', 'user_score'] = np.nan\n",
    "len(df.loc[df['user_score'] == 'tbd', 'user_score'])"
   ]
  },
  {
   "cell_type": "markdown",
   "metadata": {},
   "source": [
    "<div class=\"alert alert-warning\">\n",
    "<b>Комментарий 👉</b>\n",
    "\n",
    "Один из ключевых моментов этого проекта: в столбце 'user_score' ты оставляешь «пропуски» (после замены tbd на NaN), а в 'critic_score' у тебя «заглушки» (== 0). Это ОК здесь. Но дальше, когда мы будем строить корреляции, а также возможно оценивать платформы в зависимости от оценок пользователей - надо будет вспомнить этот момент ... Если не вспомнишь и не обработаешь, то дальше скорее всего будет ошибка в результатах анализа, в графиках и в твоих выводах.\n",
    "\n",
    "Отметь этот момент - возможно нам либо придется вернуться сюда, либо верно отфильтровывать «заглушки» в разделах проверки гипотез и расчета коэффициентов корреляции Пирсона.</div>"
   ]
  },
  {
   "cell_type": "code",
   "execution_count": 10,
   "metadata": {},
   "outputs": [
    {
     "data": {
      "text/plain": [
       "name                object\n",
       "platform            object\n",
       "year_of_release      int64\n",
       "genre               object\n",
       "na_sales           float64\n",
       "eu_sales           float64\n",
       "jp_sales           float64\n",
       "other_sales        float64\n",
       "critic_score         int64\n",
       "user_score         float64\n",
       "rating              object\n",
       "dtype: object"
      ]
     },
     "execution_count": 10,
     "metadata": {},
     "output_type": "execute_result"
    }
   ],
   "source": [
    "df['user_score'] = df['user_score'].astype(float) \n",
    "df.dtypes"
   ]
  },
  {
   "cell_type": "markdown",
   "metadata": {},
   "source": [
    "### Обработаем оставшиеся пропуски"
   ]
  },
  {
   "cell_type": "markdown",
   "metadata": {},
   "source": [
    "Посмотрим на пропуски во всем датафрейме:"
   ]
  },
  {
   "cell_type": "code",
   "execution_count": 11,
   "metadata": {},
   "outputs": [
    {
     "data": {
      "text/plain": [
       "name                  2\n",
       "platform              0\n",
       "year_of_release       0\n",
       "genre                 2\n",
       "na_sales              0\n",
       "eu_sales              0\n",
       "jp_sales              0\n",
       "other_sales           0\n",
       "critic_score          0\n",
       "user_score         8983\n",
       "rating             6678\n",
       "dtype: int64"
      ]
     },
     "execution_count": 11,
     "metadata": {},
     "output_type": "execute_result"
    }
   ],
   "source": [
    "df.isna().sum()"
   ]
  },
  {
   "cell_type": "markdown",
   "metadata": {},
   "source": [
    "В столцах 'name' и 'genre' всего два пропуска, предлагаю просто удалить их из датафрейма:"
   ]
  },
  {
   "cell_type": "code",
   "execution_count": 12,
   "metadata": {},
   "outputs": [
    {
     "data": {
      "text/plain": [
       "name                  0\n",
       "platform              0\n",
       "year_of_release       0\n",
       "genre                 0\n",
       "na_sales              0\n",
       "eu_sales              0\n",
       "jp_sales              0\n",
       "other_sales           0\n",
       "critic_score          0\n",
       "user_score         8981\n",
       "rating             6676\n",
       "dtype: int64"
      ]
     },
     "execution_count": 12,
     "metadata": {},
     "output_type": "execute_result"
    }
   ],
   "source": [
    "df = df.dropna(subset=['name'])\n",
    "df = df.dropna(subset=['genre'])\n",
    "df.isna().sum()"
   ]
  },
  {
   "cell_type": "markdown",
   "metadata": {},
   "source": [
    "Пропуски в столбце 'user_score' мы уже решили оставить, так как их довольно много и медианным значением их лучше не заполнять. Поэтому перейдем к столбцу 'rating' - посмотрим уникальные значения и решим либо оставить пропуски, либо заполнить их наиболее подходящим значением:"
   ]
  },
  {
   "cell_type": "code",
   "execution_count": 13,
   "metadata": {},
   "outputs": [
    {
     "data": {
      "text/plain": [
       "array(['E', nan, 'M', 'T', 'E10+', 'K-A', 'AO', 'EC', 'RP'], dtype=object)"
      ]
     },
     "execution_count": 13,
     "metadata": {},
     "output_type": "execute_result"
    }
   ],
   "source": [
    "df['rating'].unique()"
   ]
  },
  {
   "cell_type": "markdown",
   "metadata": {},
   "source": [
    "В данном случае предлагаю просто оставить эти пропуски."
   ]
  },
  {
   "cell_type": "markdown",
   "metadata": {},
   "source": [
    "<div class=\"alert alert-warning\">\n",
    "<b>Комментарий 👉</b>\n",
    "\n",
    "Один из ключевых моментов этого проекта: ты пропуски в 'rating' оставляешь как NaN, без заполнения «заглушкой». Это ОК здесь. Но дальше, когда мы будем строить график для игр в соответствии с их рейтингами - надо будет вспомнить этот момент ... Если не вспомнишь и не обработаешь эти \"пропуски\", то из анализа игры без рейтинга исчезнут. Ну и соответственно мы сделаем неправильные выводы.\n",
    "\n",
    "Отметь этот момент - возможно нам придется вернуться сюда.</div>"
   ]
  },
  {
   "cell_type": "markdown",
   "metadata": {},
   "source": [
    "### Обработаем дубликаты"
   ]
  },
  {
   "cell_type": "markdown",
   "metadata": {},
   "source": [
    "Сначала посмотрим на явные дубликаты:"
   ]
  },
  {
   "cell_type": "code",
   "execution_count": 14,
   "metadata": {},
   "outputs": [
    {
     "data": {
      "text/plain": [
       "0"
      ]
     },
     "execution_count": 14,
     "metadata": {},
     "output_type": "execute_result"
    }
   ],
   "source": [
    "df.duplicated().sum()"
   ]
  },
  {
   "cell_type": "markdown",
   "metadata": {},
   "source": [
    "Явных дубликатов по всем столбцам в датафрейме нет. Проверим теперь на неявные по столбцам 'name' и 'platform', так как игра с одним именем и платформой должна существовать в единственном виде:"
   ]
  },
  {
   "cell_type": "code",
   "execution_count": 15,
   "metadata": {},
   "outputs": [
    {
     "data": {
      "text/html": [
       "<div>\n",
       "<style scoped>\n",
       "    .dataframe tbody tr th:only-of-type {\n",
       "        vertical-align: middle;\n",
       "    }\n",
       "\n",
       "    .dataframe tbody tr th {\n",
       "        vertical-align: top;\n",
       "    }\n",
       "\n",
       "    .dataframe thead th {\n",
       "        text-align: right;\n",
       "    }\n",
       "</style>\n",
       "<table border=\"1\" class=\"dataframe\">\n",
       "  <thead>\n",
       "    <tr style=\"text-align: right;\">\n",
       "      <th></th>\n",
       "      <th>name</th>\n",
       "      <th>platform</th>\n",
       "      <th>year_of_release</th>\n",
       "      <th>genre</th>\n",
       "      <th>na_sales</th>\n",
       "      <th>eu_sales</th>\n",
       "      <th>jp_sales</th>\n",
       "      <th>other_sales</th>\n",
       "      <th>critic_score</th>\n",
       "      <th>user_score</th>\n",
       "      <th>rating</th>\n",
       "    </tr>\n",
       "  </thead>\n",
       "  <tbody>\n",
       "    <tr>\n",
       "      <th>1591</th>\n",
       "      <td>Need for Speed: Most Wanted</td>\n",
       "      <td>X360</td>\n",
       "      <td>2005</td>\n",
       "      <td>Racing</td>\n",
       "      <td>1.0</td>\n",
       "      <td>0.13</td>\n",
       "      <td>0.02</td>\n",
       "      <td>0.10</td>\n",
       "      <td>83</td>\n",
       "      <td>8.5</td>\n",
       "      <td>T</td>\n",
       "    </tr>\n",
       "    <tr>\n",
       "      <th>11715</th>\n",
       "      <td>Need for Speed: Most Wanted</td>\n",
       "      <td>PC</td>\n",
       "      <td>2012</td>\n",
       "      <td>Racing</td>\n",
       "      <td>0.0</td>\n",
       "      <td>0.06</td>\n",
       "      <td>0.00</td>\n",
       "      <td>0.02</td>\n",
       "      <td>82</td>\n",
       "      <td>8.5</td>\n",
       "      <td>T</td>\n",
       "    </tr>\n",
       "    <tr>\n",
       "      <th>16230</th>\n",
       "      <td>Madden NFL 13</td>\n",
       "      <td>PS3</td>\n",
       "      <td>2012</td>\n",
       "      <td>Sports</td>\n",
       "      <td>0.0</td>\n",
       "      <td>0.01</td>\n",
       "      <td>0.00</td>\n",
       "      <td>0.00</td>\n",
       "      <td>83</td>\n",
       "      <td>5.5</td>\n",
       "      <td>E</td>\n",
       "    </tr>\n",
       "  </tbody>\n",
       "</table>\n",
       "</div>"
      ],
      "text/plain": [
       "                              name platform  year_of_release   genre  \\\n",
       "1591   Need for Speed: Most Wanted     X360             2005  Racing   \n",
       "11715  Need for Speed: Most Wanted       PC             2012  Racing   \n",
       "16230                Madden NFL 13      PS3             2012  Sports   \n",
       "\n",
       "       na_sales  eu_sales  jp_sales  other_sales  critic_score  user_score  \\\n",
       "1591        1.0      0.13      0.02         0.10            83         8.5   \n",
       "11715       0.0      0.06      0.00         0.02            82         8.5   \n",
       "16230       0.0      0.01      0.00         0.00            83         5.5   \n",
       "\n",
       "      rating  \n",
       "1591       T  \n",
       "11715      T  \n",
       "16230      E  "
      ]
     },
     "execution_count": 15,
     "metadata": {},
     "output_type": "execute_result"
    }
   ],
   "source": [
    "df[df.duplicated(subset=['name', 'platform'])]"
   ]
  },
  {
   "cell_type": "markdown",
   "metadata": {},
   "source": [
    "Удалим эти строчки из датафрейма:"
   ]
  },
  {
   "cell_type": "code",
   "execution_count": 16,
   "metadata": {},
   "outputs": [
    {
     "data": {
      "text/plain": [
       "0"
      ]
     },
     "execution_count": 16,
     "metadata": {},
     "output_type": "execute_result"
    }
   ],
   "source": [
    "df = df.drop_duplicates(subset=['name', 'platform']).reset_index(drop=True) \n",
    "df.duplicated(subset=['name', 'platform']).sum()"
   ]
  },
  {
   "cell_type": "markdown",
   "metadata": {},
   "source": [
    "### Добавим столбец с суммарными продажами"
   ]
  },
  {
   "cell_type": "code",
   "execution_count": 17,
   "metadata": {},
   "outputs": [
    {
     "data": {
      "text/html": [
       "<div>\n",
       "<style scoped>\n",
       "    .dataframe tbody tr th:only-of-type {\n",
       "        vertical-align: middle;\n",
       "    }\n",
       "\n",
       "    .dataframe tbody tr th {\n",
       "        vertical-align: top;\n",
       "    }\n",
       "\n",
       "    .dataframe thead th {\n",
       "        text-align: right;\n",
       "    }\n",
       "</style>\n",
       "<table border=\"1\" class=\"dataframe\">\n",
       "  <thead>\n",
       "    <tr style=\"text-align: right;\">\n",
       "      <th></th>\n",
       "      <th>name</th>\n",
       "      <th>platform</th>\n",
       "      <th>year_of_release</th>\n",
       "      <th>genre</th>\n",
       "      <th>na_sales</th>\n",
       "      <th>eu_sales</th>\n",
       "      <th>jp_sales</th>\n",
       "      <th>other_sales</th>\n",
       "      <th>critic_score</th>\n",
       "      <th>user_score</th>\n",
       "      <th>rating</th>\n",
       "      <th>total_sales</th>\n",
       "    </tr>\n",
       "  </thead>\n",
       "  <tbody>\n",
       "    <tr>\n",
       "      <th>0</th>\n",
       "      <td>Wii Sports</td>\n",
       "      <td>Wii</td>\n",
       "      <td>2006</td>\n",
       "      <td>Sports</td>\n",
       "      <td>41.36</td>\n",
       "      <td>28.96</td>\n",
       "      <td>3.77</td>\n",
       "      <td>8.45</td>\n",
       "      <td>76</td>\n",
       "      <td>8.0</td>\n",
       "      <td>E</td>\n",
       "      <td>82.54</td>\n",
       "    </tr>\n",
       "    <tr>\n",
       "      <th>1</th>\n",
       "      <td>Super Mario Bros.</td>\n",
       "      <td>NES</td>\n",
       "      <td>1985</td>\n",
       "      <td>Platform</td>\n",
       "      <td>29.08</td>\n",
       "      <td>3.58</td>\n",
       "      <td>6.81</td>\n",
       "      <td>0.77</td>\n",
       "      <td>0</td>\n",
       "      <td>NaN</td>\n",
       "      <td>NaN</td>\n",
       "      <td>40.24</td>\n",
       "    </tr>\n",
       "    <tr>\n",
       "      <th>2</th>\n",
       "      <td>Mario Kart Wii</td>\n",
       "      <td>Wii</td>\n",
       "      <td>2008</td>\n",
       "      <td>Racing</td>\n",
       "      <td>15.68</td>\n",
       "      <td>12.76</td>\n",
       "      <td>3.79</td>\n",
       "      <td>3.29</td>\n",
       "      <td>82</td>\n",
       "      <td>8.3</td>\n",
       "      <td>E</td>\n",
       "      <td>35.52</td>\n",
       "    </tr>\n",
       "    <tr>\n",
       "      <th>3</th>\n",
       "      <td>Wii Sports Resort</td>\n",
       "      <td>Wii</td>\n",
       "      <td>2009</td>\n",
       "      <td>Sports</td>\n",
       "      <td>15.61</td>\n",
       "      <td>10.93</td>\n",
       "      <td>3.28</td>\n",
       "      <td>2.95</td>\n",
       "      <td>80</td>\n",
       "      <td>8.0</td>\n",
       "      <td>E</td>\n",
       "      <td>32.77</td>\n",
       "    </tr>\n",
       "    <tr>\n",
       "      <th>4</th>\n",
       "      <td>Pokemon Red/Pokemon Blue</td>\n",
       "      <td>GB</td>\n",
       "      <td>1996</td>\n",
       "      <td>Role-Playing</td>\n",
       "      <td>11.27</td>\n",
       "      <td>8.89</td>\n",
       "      <td>10.22</td>\n",
       "      <td>1.00</td>\n",
       "      <td>0</td>\n",
       "      <td>NaN</td>\n",
       "      <td>NaN</td>\n",
       "      <td>31.38</td>\n",
       "    </tr>\n",
       "  </tbody>\n",
       "</table>\n",
       "</div>"
      ],
      "text/plain": [
       "                       name platform  year_of_release         genre  na_sales  \\\n",
       "0                Wii Sports      Wii             2006        Sports     41.36   \n",
       "1         Super Mario Bros.      NES             1985      Platform     29.08   \n",
       "2            Mario Kart Wii      Wii             2008        Racing     15.68   \n",
       "3         Wii Sports Resort      Wii             2009        Sports     15.61   \n",
       "4  Pokemon Red/Pokemon Blue       GB             1996  Role-Playing     11.27   \n",
       "\n",
       "   eu_sales  jp_sales  other_sales  critic_score  user_score rating  \\\n",
       "0     28.96      3.77         8.45            76         8.0      E   \n",
       "1      3.58      6.81         0.77             0         NaN    NaN   \n",
       "2     12.76      3.79         3.29            82         8.3      E   \n",
       "3     10.93      3.28         2.95            80         8.0      E   \n",
       "4      8.89     10.22         1.00             0         NaN    NaN   \n",
       "\n",
       "   total_sales  \n",
       "0        82.54  \n",
       "1        40.24  \n",
       "2        35.52  \n",
       "3        32.77  \n",
       "4        31.38  "
      ]
     },
     "execution_count": 17,
     "metadata": {},
     "output_type": "execute_result"
    }
   ],
   "source": [
    "df['total_sales'] = df['na_sales'] + df['eu_sales'] + df['jp_sales'] + df['other_sales']\n",
    "df.head()"
   ]
  },
  {
   "cell_type": "markdown",
   "metadata": {},
   "source": [
    "Столбец с суммарными продажами нам понадобится в дальнейшем для анализа продажи игр по всему миру."
   ]
  },
  {
   "cell_type": "markdown",
   "metadata": {},
   "source": [
    "<div class=\"alert alert-danger\">\n",
    "<b>Необходимо исправить ❌</b>\n",
    "\n",
    "А other_sales почему из суммы выпало?\n",
    "</div>"
   ]
  },
  {
   "cell_type": "markdown",
   "metadata": {},
   "source": [
    "<div class=\"alert alert-success\">\n",
    "<b>КОММЕНТАРИЙ V2</b>\n",
    "\n",
    "Отлично, верно теперь.\n",
    "</div>\n"
   ]
  },
  {
   "cell_type": "markdown",
   "metadata": {},
   "source": [
    "<div class=\"alert alert-danger\">\n",
    "<b>Необходимо исправить ❌</b>\n",
    "\n",
    "Любая предобработка данных предполагает поиск и анализ дубликатов. В твоём разделе с предобработкой подобной важной составляющей нет. \n",
    "\n",
    "Попробуй найти 1. явные и 2. неявные дубликаты (для их поиска нужно использовать параметр **subset**). Конкретно в нашем рабочем проекте пробуй найти дубликаты для пары \"Имя - Игровая консоль\". После поиска и обнаружения - опиши как их планируешь и планируешь ли обрабатывать?</div>"
   ]
  },
  {
   "cell_type": "markdown",
   "metadata": {},
   "source": [
    "<div class=\"alert alert-warning\">\n",
    "<b>Комментарий 👉</b>\n",
    "\n",
    "Меня смущает отсутствие полноценного вывода в этом разделе, например, с описанием того что здесь делали? Зачем делали? Какие результаты получили? Что будем делать с этими результатами?\n",
    "    \n",
    "Нужно больше слов, больше выводов, больше размышлений. Аналитика данных - это скорее \"про выводы по данным\", нежели чем про \"про написание кода\". Нет, программирование конечно в аналитике тоже занимает большой % времени, но построение выводов, уточнение формулировок и подготовка презентаций (например, в PowerPoint) тоже значительную часть анализа занимает. И уж точно финальный вывод есть одна из главных составляющих качественной работы отличного аналитика данных.</div>"
   ]
  },
  {
   "cell_type": "markdown",
   "metadata": {},
   "source": [
    "<div style=\"background: #B0E0E6; padding: 5px; border: 1px solid SteelBlue; border-radius: 5px;\">\n",
    "    <font color='4682B4'><u><b>Миша</b></u></font>\n",
    "    <br />\n",
    "    <font color='4682B4'>Проверил и удалил дубликаты, добавил к сумме 'other_sales' (случайно пропустил), добавил описание.</font>\n",
    "</div>"
   ]
  },
  {
   "cell_type": "markdown",
   "metadata": {},
   "source": [
    "<div class=\"alert alert-success\">\n",
    "<b>КОММЕНТАРИЙ V2</b>\n",
    "\n",
    "Отлично, верно! После анализа явных и неявных дубликатов вполне может быть принято решение их не обрабатывать/не удалять/ещё что-то, но пропускать сам шаг поиска (неявных) дублей не стоит (это один из обязательных шагов в пайплайне EDA).\n",
    "</div>\n"
   ]
  },
  {
   "cell_type": "markdown",
   "metadata": {},
   "source": [
    "<div class=\"alert alert-success\">\n",
    "<b>ОТЛИЧНО! 👍</b>\n",
    "\n",
    "Данные загружены, отлично.\n",
    "\n",
    "Хорошо, что применяешь метод .head()/.sample() таким образом в память не будет загружен весь датасет, объем которого может быть огромным.\n",
    "\n",
    "Методы .info, .describe, .value_counts(), .unique() как правило часто встречаются и обязательны к применению в задачах по исследованию данных, ведь с их помощью можно получить первые инсайты. \n",
    "\n",
    "Итак, мы провели предварительный анализ данных, проверили данные на наличие пропусков и затем обработали их (аргументированно заполнили / удалили / оставили как есть). Теперь можно приступать собственно к анализу данных и ответам на вопросы проекта.</div>"
   ]
  },
  {
   "cell_type": "markdown",
   "metadata": {},
   "source": [
    "## Проведем исследовательский анализ данных"
   ]
  },
  {
   "cell_type": "markdown",
   "metadata": {},
   "source": [
    "### Посмотрим сколько игр выпускалось в разные годы"
   ]
  },
  {
   "cell_type": "markdown",
   "metadata": {},
   "source": [
    "Сначала сделаем датафрейм с выпуском игр по годам:"
   ]
  },
  {
   "cell_type": "code",
   "execution_count": 18,
   "metadata": {},
   "outputs": [
    {
     "data": {
      "text/plain": [
       "0"
      ]
     },
     "execution_count": 18,
     "metadata": {},
     "output_type": "execute_result"
    }
   ],
   "source": [
    "df_game_year = df.drop_duplicates(subset=['name', 'year_of_release'], keep='first').reset_index(drop=True) \n",
    "# Проверим есть ли дубликаты в новом датафрейме\n",
    "df_game_year.duplicated(subset=['name', 'year_of_release']).sum()"
   ]
  },
  {
   "cell_type": "code",
   "execution_count": 19,
   "metadata": {},
   "outputs": [
    {
     "data": {
      "text/plain": [
       "0.7417432029681893"
      ]
     },
     "execution_count": 19,
     "metadata": {},
     "output_type": "execute_result"
    }
   ],
   "source": [
    "# Проверим много ли дубликатов было относительно изначального датафрейма\n",
    "len(df_game_year)/len(df)"
   ]
  },
  {
   "cell_type": "markdown",
   "metadata": {},
   "source": [
    "Теперь построим гистограмму:"
   ]
  },
  {
   "cell_type": "code",
   "execution_count": 20,
   "metadata": {},
   "outputs": [
    {
     "data": {
      "image/png": "[encoded data removed]",
      "text/plain": [
       "<Figure size 720x432 with 1 Axes>"
      ]
     },
     "metadata": {
      "needs_background": "light"
     },
     "output_type": "display_data"
    }
   ],
   "source": [
    "df_game_year['year_of_release'].hist(bins=50, figsize=[10, 6])\n",
    "plt.title('Количество выпускаемых игр в разные годы', fontsize=16, pad=20)\n",
    "plt.xlabel('Год', labelpad=10, fontsize=14)\n",
    "plt.ylabel('Частота', labelpad=20, fontsize=14)\n",
    "plt.show()"
   ]
  },
  {
   "cell_type": "markdown",
   "metadata": {},
   "source": [
    "<div class=\"alert alert-warning\">\n",
    "<b>Комментарий 👉</b>\n",
    "\n",
    "Агрегация по count() покажет нам число игр, выпущенных на всех платформах, в разрезе лет. Т.е. если одна и та же игра (name) вышла в некоем году на одной платформе, агрегат == 1. Если на 2-х платформах, агрегат == 2, ну и так далее. У меня вопрос к тебе – что в твоем случае, в написанном тобой коде мы считаем выпуском игры (в этом, некоем году)?\n",
    "\n",
    "Возможно, чтобы получить истинное количество «игр по годам» нам следует поискать дубликаты (используя subset по (Годам - Названиям игр) и затем исключить из полного датафрейма все дубли за исключением одной, «первой», строки? Как ты считаешь?</div>"
   ]
  },
  {
   "cell_type": "markdown",
   "metadata": {},
   "source": [
    "<div class=\"alert alert-danger\">\n",
    "<b>Необходимо исправить ❌</b>\n",
    "\n",
    "Почему на гистограмме выпуска игр по годам наблюдаются провалы? График верен в таком виде? Действительно были пропуски в выпуске игр?\n",
    "</div>"
   ]
  },
  {
   "cell_type": "markdown",
   "metadata": {},
   "source": [
    "<div class=\"alert alert-success\">\n",
    "<b>КОММЕНТАРИЙ V2</b> \t\n",
    "\n",
    "Попробуй bins=37\n",
    "</div>"
   ]
  },
  {
   "cell_type": "markdown",
   "metadata": {},
   "source": [
    "<div style=\"background: #B0E0E6; padding: 5px; border: 1px solid SteelBlue; border-radius: 5px;\">\n",
    "    <font color='4682B4'><u><b>Миша</b></u></font>\n",
    "    <br />\n",
    "    <font color='4682B4'>Согласен, что надо смотреть дату релиза игры, но на разных платформах одна и та же игра могла иметь разный год релиза, разработчикам иногда подчастую надо переделать большую часть игры для оптимизации на другой платформе, я бы считал её как отдельную игру ведь даже оценки пользователей и критиков в данном случае отличаются, продажи тоже.</font>\n",
    "</div>"
   ]
  },
  {
   "cell_type": "markdown",
   "metadata": {},
   "source": [
    "<div class=\"alert alert-success\">\n",
    "<b>КОММЕНТАРИЙ V2</b>\n",
    "\n",
    "В этом вопросе не было подвоха. И верными могут быть оба варианта – в зависимости от угла зрения на эту задачу. Этот жёлтый комментарий не про то, чтобы что-то сразу делать с данными, а \"про подумать\", как и почему мы будем работать с играми, которые в **определенном году** выходят сразу на нескольких платформах. Будем мы их считать разными, уникальными играми. Или мы их будем считать, как одну игру, которая вышла в этом текущем году? Так что, то, что вопрос обдуман и объяснен - молодец!\n",
    "</div>\n"
   ]
  },
  {
   "cell_type": "markdown",
   "metadata": {},
   "source": [
    "Из данной гистограммы следует, что количество выпускаемых игр с 1980 по 1995 год довольно мало, по сравнению с оставшимся периодом, поэтому эти данные я думаю не очень важны, к тому же - это довольно старые данные. Больше всего выпускаемых игр в 2008, 2009 годах."
   ]
  },
  {
   "cell_type": "markdown",
   "metadata": {},
   "source": [
    "<div class=\"alert alert-success\">\n",
    "<b>ОТЛИЧНО! 👍</b>\n",
    "\n",
    "Просто супер: график подписан, оси подписаны. Не часто на самом деле такой скрупулёзный подход к оформлению встречается. Молодец!\n",
    "\n",
    "p.s. построй график крупнее (используй например **figsize=[20, 10]**)</div>"
   ]
  },
  {
   "cell_type": "markdown",
   "metadata": {},
   "source": [
    "<div class=\"alert alert-warning\">\n",
    "<b>Комментарий 👉</b>\n",
    "\n",
    "Было бы здорово получить объяснение поведения данного графика (с точки зрения того, что происходило на рынке в соответствующие года). Пытаться понять полученный результат - важная часть работы аналитика.</div>"
   ]
  },
  {
   "cell_type": "markdown",
   "metadata": {},
   "source": [
    "### Посмотрим, как менялись продажи по платформам"
   ]
  },
  {
   "cell_type": "markdown",
   "metadata": {},
   "source": [
    "Ддя начала определим платформы с наибольшими суммарными продажами:"
   ]
  },
  {
   "cell_type": "code",
   "execution_count": 21,
   "metadata": {},
   "outputs": [
    {
     "data": {
      "text/html": [
       "<div>\n",
       "<style scoped>\n",
       "    .dataframe tbody tr th:only-of-type {\n",
       "        vertical-align: middle;\n",
       "    }\n",
       "\n",
       "    .dataframe tbody tr th {\n",
       "        vertical-align: top;\n",
       "    }\n",
       "\n",
       "    .dataframe thead th {\n",
       "        text-align: right;\n",
       "    }\n",
       "</style>\n",
       "<table border=\"1\" class=\"dataframe\">\n",
       "  <thead>\n",
       "    <tr style=\"text-align: right;\">\n",
       "      <th></th>\n",
       "      <th>total_sales</th>\n",
       "    </tr>\n",
       "    <tr>\n",
       "      <th>platform</th>\n",
       "      <th></th>\n",
       "    </tr>\n",
       "  </thead>\n",
       "  <tbody>\n",
       "    <tr>\n",
       "      <th>PS2</th>\n",
       "      <td>1233.56</td>\n",
       "    </tr>\n",
       "    <tr>\n",
       "      <th>X360</th>\n",
       "      <td>959.99</td>\n",
       "    </tr>\n",
       "    <tr>\n",
       "      <th>PS3</th>\n",
       "      <td>931.33</td>\n",
       "    </tr>\n",
       "    <tr>\n",
       "      <th>Wii</th>\n",
       "      <td>891.18</td>\n",
       "    </tr>\n",
       "    <tr>\n",
       "      <th>DS</th>\n",
       "      <td>802.78</td>\n",
       "    </tr>\n",
       "  </tbody>\n",
       "</table>\n",
       "</div>"
      ],
      "text/plain": [
       "          total_sales\n",
       "platform             \n",
       "PS2           1233.56\n",
       "X360           959.99\n",
       "PS3            931.33\n",
       "Wii            891.18\n",
       "DS             802.78"
      ]
     },
     "execution_count": 21,
     "metadata": {},
     "output_type": "execute_result"
    }
   ],
   "source": [
    "platform_sales = df.pivot_table(index='platform', values='total_sales', aggfunc='sum')\n",
    "platform_sales = platform_sales.sort_values(by='total_sales', ascending=False).head(5)\n",
    "platform_sales"
   ]
  },
  {
   "cell_type": "markdown",
   "metadata": {},
   "source": [
    "В столбце 'platform' указаны топ 5 платформ по суммарным продажам за все время. Предлагаю посмотреть продажи именно этих платформ с 1985 года - за \"актуальный рериод\":"
   ]
  },
  {
   "cell_type": "code",
   "execution_count": 22,
   "metadata": {},
   "outputs": [
    {
     "data": {
      "image/png": "[encoded data removed]",
      "text/plain": [
       "<Figure size 864x432 with 1 Axes>"
      ]
     },
     "metadata": {
      "needs_background": "light"
     },
     "output_type": "display_data"
    }
   ],
   "source": [
    "df1 = df.query('year_of_release > 1995')\n",
    "PS2 = df1.query('platform == \"PS2\"')['year_of_release']\n",
    "X360 = df1.query('platform == \"X360\"')['year_of_release']\n",
    "Wii = df1.query('platform == \"Wii\"')['year_of_release']\n",
    "PS3 = df1.query('platform == \"PS3\"')['year_of_release']\n",
    "DS = df1.query('platform == \"DS\"')['year_of_release'] \n",
    "plt.figure(figsize=(12,6))\n",
    "plt.hist([PS2, X360, Wii, PS3, DS], bins=30, label=['PS2', 'X360', 'Wii', 'PS3', 'DS'])\n",
    "plt.legend(loc='upper left')\n",
    "plt.grid(True)\n",
    "plt.title('Распределения по годам платформ с самыми большими суммарными продажами', fontsize=16, pad=20)\n",
    "plt.xlabel('Год', labelpad=10, fontsize=14)\n",
    "plt.ylabel('Частота', labelpad=20, fontsize=14)\n",
    "plt.show()"
   ]
  },
  {
   "cell_type": "markdown",
   "metadata": {},
   "source": [
    "<div class=\"alert alert-warning\">\n",
    "<b>Комментарий 👉</b>\n",
    "\n",
    "Здесь конечно, по сути, надо бы список с топ-5 платформами автоматизировано формировать. Ты только представь, что тебе нужно не 5, а скажем 150 значений указать, или в коде, в разных местах иметь разный топ-Х. Сделаешь?\n",
    "\n",
    "Ниже пример как (**псевдокод!**):\n",
    "\n",
    "tmp = data.pivot_table(index='platform', values='total_sales', aggfunc= 'sum').sort_values('total_sales', ascending=False)\n",
    "tmp.index[:5].tolist()</div>"
   ]
  },
  {
   "cell_type": "markdown",
   "metadata": {},
   "source": [
    "Платформы с самыми большими суммарными продажами в общем имеют следующую тенденцию - примерно в течении 7-9 лет они актуальны, пик всегда примерно в середине этого периода. Но для прогноза на 2017 год нужны платформы, которые уже популярны в 2016 году, я предлагаю посмотреть на платформы поновей, так как пик популярности платформ в среднем находится примерно 4 годах от начала появления платформы предлагаю посмотреть общие продажи с 2013 года:"
   ]
  },
  {
   "cell_type": "markdown",
   "metadata": {},
   "source": [
    "<div class=\"alert alert-success\">\n",
    "<b>ОТЛИЧНО! 👍</b>\n",
    "\n",
    "Подтверждаю «около 10 лет», как корректный интервал, описывающий средний срок жизни игровой платформы.\n",
    "</div>"
   ]
  },
  {
   "cell_type": "markdown",
   "metadata": {},
   "source": [
    "<div class=\"alert alert-success\">\n",
    "<b>ОТЛИЧНО! 👍</b>\n",
    "\n",
    "Правильный выбор диапазона!\n",
    "\n",
    "Это на самом деле один из подводных камней этого проекта! \n",
    "\n",
    "Коллеги могут выбирать для анализа очень большой интервал данных, но для целей прогнозирования продаж на следующий год даже в традиционных бизнесах редко берут данные более чем за 2-4 года. И в такой динамично меняющейся индустрии, как компьютерные игры также не стоит брать слишком большой временной интервал - иначе обязательно захватишь уже отжившие тренды. В нашем учебном проекте, я с тобой соглашусь, что 4 года: 2013 - 2015 + неполный 2016 - ОК.</div>"
   ]
  },
  {
   "cell_type": "code",
   "execution_count": 23,
   "metadata": {},
   "outputs": [
    {
     "data": {
      "text/html": [
       "<div>\n",
       "<style scoped>\n",
       "    .dataframe tbody tr th:only-of-type {\n",
       "        vertical-align: middle;\n",
       "    }\n",
       "\n",
       "    .dataframe tbody tr th {\n",
       "        vertical-align: top;\n",
       "    }\n",
       "\n",
       "    .dataframe thead th {\n",
       "        text-align: right;\n",
       "    }\n",
       "</style>\n",
       "<table border=\"1\" class=\"dataframe\">\n",
       "  <thead>\n",
       "    <tr style=\"text-align: right;\">\n",
       "      <th></th>\n",
       "      <th>total_sales</th>\n",
       "    </tr>\n",
       "    <tr>\n",
       "      <th>platform</th>\n",
       "      <th></th>\n",
       "    </tr>\n",
       "  </thead>\n",
       "  <tbody>\n",
       "    <tr>\n",
       "      <th>PS4</th>\n",
       "      <td>314.14</td>\n",
       "    </tr>\n",
       "    <tr>\n",
       "      <th>PS3</th>\n",
       "      <td>181.43</td>\n",
       "    </tr>\n",
       "    <tr>\n",
       "      <th>XOne</th>\n",
       "      <td>159.32</td>\n",
       "    </tr>\n",
       "    <tr>\n",
       "      <th>3DS</th>\n",
       "      <td>143.25</td>\n",
       "    </tr>\n",
       "    <tr>\n",
       "      <th>X360</th>\n",
       "      <td>136.80</td>\n",
       "    </tr>\n",
       "  </tbody>\n",
       "</table>\n",
       "</div>"
      ],
      "text/plain": [
       "          total_sales\n",
       "platform             \n",
       "PS4            314.14\n",
       "PS3            181.43\n",
       "XOne           159.32\n",
       "3DS            143.25\n",
       "X360           136.80"
      ]
     },
     "execution_count": 23,
     "metadata": {},
     "output_type": "execute_result"
    }
   ],
   "source": [
    "df1 = df.query('year_of_release >= 2013')\n",
    "platform_sales = df1.pivot_table(index='platform', values='total_sales', aggfunc='sum')\n",
    "platform_sales = platform_sales.sort_values(by='total_sales', ascending=False).head(5)\n",
    "platform_sales"
   ]
  },
  {
   "cell_type": "markdown",
   "metadata": {},
   "source": [
    "<div class=\"alert alert-success\">\n",
    "<b>ОТЛИЧНО! 👍</b>\n",
    "\n",
    "Очень хорошо, что результат запроса/’среза’ ты присваиваешь новому датафрейму. Таким образом оригинальный датафрейм ты оставляешь нетронутым, не перезаписываешь (вдруг нам опять понадобятся данные из него чуть ниже). Это верное решение. Best practice. Молодец!</div>"
   ]
  },
  {
   "cell_type": "markdown",
   "metadata": {},
   "source": [
    "В данном датафрейме уже есть 2 платформы, которые по общей тенденции будут менее популярны в 2017 году - это PS3 и X360. Сделаем гистограмму со всеми платформами, кроме этих:"
   ]
  },
  {
   "cell_type": "code",
   "execution_count": 24,
   "metadata": {
    "scrolled": false
   },
   "outputs": [
    {
     "data": {
      "image/png": "[encoded data removed]",
      "text/plain": [
       "<Figure size 864x432 with 1 Axes>"
      ]
     },
     "metadata": {
      "needs_background": "light"
     },
     "output_type": "display_data"
    }
   ],
   "source": [
    "PS4 = df1.query('platform == \"PS4\"')['year_of_release']\n",
    "XOne = df1.query('platform == \"XOne\"')['year_of_release']\n",
    "DS3 = df1.query('platform == \"3DS\"')['year_of_release']\n",
    "plt.figure(figsize=(12,6))\n",
    "plt.hist([PS4, XOne, DS3], bins=30, label=['PS4', 'XOne', '3DS'])\n",
    "plt.legend(loc='upper left')\n",
    "plt.grid(True)\n",
    "plt.title('Распределения по годам перспективных платформ за период 2013-2016', fontsize=16, pad=20)\n",
    "plt.xlabel('Год', labelpad=10, fontsize=14)\n",
    "plt.xticks(np.arange(2013, 2017, 1))\n",
    "plt.ylabel('Частота', labelpad=20, fontsize=14)\n",
    "plt.show()"
   ]
  },
  {
   "cell_type": "markdown",
   "metadata": {},
   "source": [
    "По возврастающей идёт суммарное кол-во продаж у платформ PS4 и XOne. Предполагаю, что лидером в 2017 году станет PS4, на втором месте - XOne."
   ]
  },
  {
   "cell_type": "markdown",
   "metadata": {},
   "source": [
    "<div class=\"alert alert-success\">\n",
    "<b>ОТЛИЧНО! 👍</b>\n",
    "\n",
    "Здесь всё отлично. Платформы, которые имеют перспективы для продаж в 2017 году ты верно определяешь и отрисовываешь их на графике! Супер!\n",
    "\n",
    "Ну и твой вывод отражает и описывает найденные тобой закономерности в данных.\n",
    "</div>"
   ]
  },
  {
   "cell_type": "markdown",
   "metadata": {},
   "source": [
    "### Построим boxplot() для платформ"
   ]
  },
  {
   "cell_type": "markdown",
   "metadata": {},
   "source": [
    "Как для первой, так и для второй платформы отсечём \"аномальные значения\", после просмотра boxplot для двух приставок решил, что границей будет число 2 по 'total_sales':"
   ]
  },
  {
   "cell_type": "code",
   "execution_count": 25,
   "metadata": {},
   "outputs": [
    {
     "data": {
      "text/plain": [
       "<AxesSubplot:>"
      ]
     },
     "execution_count": 25,
     "metadata": {},
     "output_type": "execute_result"
    },
    {
     "data": {
      "image/png": "[encoded data removed]",
      "text/plain": [
       "<Figure size 432x288 with 1 Axes>"
      ]
     },
     "metadata": {
      "needs_background": "light"
     },
     "output_type": "display_data"
    }
   ],
   "source": [
    "df1.query('platform == \"PS4\" and total_sales < 2')[['total_sales']].boxplot()"
   ]
  },
  {
   "cell_type": "markdown",
   "metadata": {},
   "source": [
    "<div class=\"alert alert-danger\">\n",
    "<b>Необходимо исправить ❌</b>\n",
    "\n",
    "Стоп! А почему мы опять переключились на \"полные\" данные? Здесь я вижу, что ты продолжаешь использовать «полный» датафрейм, вместо актуального (того, который поможет построить нам прогноз на 2017 год). Поэтому ещё раз хочу здесь обсудить с тобой очень важный момент этого проекта. По условиям проекта нам вот что сделать надо (я прямо из брифа цитаты приведу):\n",
    "\n",
    "- Возьмите данные за соответствующий актуальный период. Актуальный период определите самостоятельно в результате исследования предыдущих вопросов. Основной фактор — эти данные помогут построить прогноз на 2017 год.\n",
    "\n",
    "- Не учитывайте в работе данные за предыдущие годы.\n",
    "\n",
    "Т.е. после того как ты определишь тот интервал данных, который тебе поможет сделать прогноз на 2017 год, тебе надо будет взять и \"отрезать\" от полного датафрейма кусок актуальных данных. И с этого момента (после \"отрезания\") и заканчивая финальным выводом, для анализа необходимо использовать **только** \"обрезанный\" датафрейм.\n",
    "\n",
    "В итоге - вот порядок: явно определи интервал \"с которого\" ... \"отрежь\" ненужное (оставив актуальное) и сохрани в новый датафрейм. Используй для анализа только его!\n",
    "\n",
    "---\n",
    "Итак, после определения актуального периода, с того самого места и до финального вывода по проекту мы должны использовать только «обрезанный» датафрейм, который содержит актуальные тренды и которым поможет построить прогноз на 2017 год. \n",
    "\n",
    "А сейчас фактически что произошло: из-за слишком «длинного» горизонта анализа в наши выводы попадут \"цифры\" из полного датафрейма, \"цифры\", которые «испортят» финальный вывод и будут некорректны в контексте 2017 год.\n",
    "\n",
    "**p.s. я больше не повторяю этот комментарий, но отсюда и ниже – внимательно, до самого конца «тетрадки» проверь - используешь ли ты \"верные\" данные (и соответственно в разделе проверки гипотез и в финальном выводе - верные ли факты по данным ты озвучиваешь).**\n",
    "\n",
    "Итак: надо поправить проблему с горизонтом анализа и после перестроения графиков и цифр актуализировать выводы.</div>"
   ]
  },
  {
   "cell_type": "markdown",
   "metadata": {},
   "source": [
    "Для PS4 разброс продаж довольно большой, я думаю это прежде всего связано с жанром игр. Посмотрим на boxplot уже непопулярной платформы с самыми большими продажами за все время:"
   ]
  },
  {
   "cell_type": "code",
   "execution_count": 26,
   "metadata": {},
   "outputs": [
    {
     "data": {
      "text/plain": [
       "<AxesSubplot:>"
      ]
     },
     "execution_count": 26,
     "metadata": {},
     "output_type": "execute_result"
    },
    {
     "data": {
      "image/png": "[encoded data removed]",
      "text/plain": [
       "<Figure size 432x288 with 1 Axes>"
      ]
     },
     "metadata": {
      "needs_background": "light"
     },
     "output_type": "display_data"
    }
   ],
   "source": [
    "df1.query('platform == \"PS3\" and total_sales < 2')[['total_sales']].boxplot()"
   ]
  },
  {
   "cell_type": "markdown",
   "metadata": {},
   "source": [
    "<div class=\"alert alert-danger\">\n",
    "<b>Необходимо исправить ❌</b>\n",
    "\n",
    "Согласно брифа надо построить другой график, а именно: **на одном графике** нужно разместить **все боксплоты** по «по глобальным продажам игр в разбивке **по платформам**» так, чтобы хорошо были видны их медианы, 25ый и 75ый квартили. График должен позволять сравнивать платформы между собой.\n",
    "\n",
    "Я бы построил все боксплоты на одном графике, чтобы их удобно было друг с другом сравнивать. Причём сделал бы это в 2-х вариациях: первая - когда сами \"ящики\" бы в деталях были видны (а выбросы срезаны ... используя ylim), а вторая - когда видны все выбросы (при этом неважно, что \"ящики\" будут \"сплющены\").\n",
    "</div>"
   ]
  },
  {
   "cell_type": "markdown",
   "metadata": {},
   "source": [
    "<div style=\"background: #B0E0E6; padding: 5px; border: 1px solid SteelBlue; border-radius: 5px;\">\n",
    "    <font color='4682B4'><u><b>Миша</b></u></font>\n",
    "    <br />\n",
    "    <font color='4682B4'>Совершенно непонятно как сделать разбивку для всех платформ, пробовал группировать - там сраз должна примениться фукция. Также непонятно как несколько boxplot построить на одном графике в таком случае</font>\n",
    "</div>"
   ]
  },
  {
   "cell_type": "markdown",
   "metadata": {},
   "source": [
    "<div class=\"alert alert-success\">\n",
    "<b>КОММЕНТАРИЙ V2</b> \t\n",
    "\n",
    "Михаил - пример кода (он очень простой!) - ниже. Разбери код самостоятельно, я не буду на повтор отправлять твой проект из-за этого, ок?\n",
    "</div>"
   ]
  },
  {
   "cell_type": "markdown",
   "metadata": {},
   "source": [
    "<div class=\"alert alert-danger\">\n",
    "<b>**КОД РЕВЬЮЕРА. НАЧАЛО**</b></div>"
   ]
  },
  {
   "cell_type": "code",
   "execution_count": 30,
   "metadata": {},
   "outputs": [
    {
     "data": {
      "image/png": "[encoded data removed]",
      "text/plain": [
       "<Figure size 1440x720 with 1 Axes>"
      ]
     },
     "metadata": {
      "needs_background": "light"
     },
     "output_type": "display_data"
    }
   ],
   "source": [
    "plt.figure(figsize=(20, 10))\n",
    "\n",
    "sns.boxplot(data=df1, x='platform', y='total_sales')\n",
    "\n",
    "plt.ylim(0, .82)\n",
    "\n",
    "plt.title('\"Ящики с усами\" по глобальным продажам игр')\n",
    "plt.xlabel('Продажи, млн. шт.')\n",
    "plt.ylabel('Платформы')\n",
    "\n",
    "plt.show()\n"
   ]
  },
  {
   "cell_type": "markdown",
   "metadata": {},
   "source": [
    "<div class=\"alert alert-danger\">\n",
    "<b>**КОД РЕВЬЮЕРА. КОНЕЦ**</b></div>"
   ]
  },
  {
   "cell_type": "markdown",
   "metadata": {},
   "source": [
    "Тут тоже огромное количество выбросов, но опять же это скорее всего связано с жанром игры."
   ]
  },
  {
   "cell_type": "markdown",
   "metadata": {},
   "source": [
    "### Посмотрим, как влияют на продажи внутри одной популярной платформы отзывы пользователей и критиков"
   ]
  },
  {
   "cell_type": "markdown",
   "metadata": {},
   "source": [
    "Построим диаграммы рассеяния для PS3 по отзывам пользователей и критиков:"
   ]
  },
  {
   "cell_type": "code",
   "execution_count": 115,
   "metadata": {},
   "outputs": [
    {
     "data": {
      "text/plain": [
       "array([[<Axes: xlabel='critic_score', ylabel='critic_score'>,\n",
       "        <Axes: xlabel='total_sales', ylabel='critic_score'>,\n",
       "        <Axes: xlabel='user_score', ylabel='critic_score'>],\n",
       "       [<Axes: xlabel='critic_score', ylabel='total_sales'>,\n",
       "        <Axes: xlabel='total_sales', ylabel='total_sales'>,\n",
       "        <Axes: xlabel='user_score', ylabel='total_sales'>],\n",
       "       [<Axes: xlabel='critic_score', ylabel='user_score'>,\n",
       "        <Axes: xlabel='total_sales', ylabel='user_score'>,\n",
       "        <Axes: xlabel='user_score', ylabel='user_score'>]], dtype=object)"
      ]
     },
     "execution_count": 115,
     "metadata": {},
     "output_type": "execute_result"
    },
    {
     "data": {
      "image/png": "[encoded data removed]",
      "text/plain": [
       "<Figure size 1200x1200 with 9 Axes>"
      ]
     },
     "metadata": {},
     "output_type": "display_data"
    }
   ],
   "source": [
    "stat = df1.query('critic_score != 0 and user_score != None and platform == \"PS3\"').pivot_table(index='name', values=['total_sales', 'critic_score', 'user_score'])\n",
    "pd.plotting.scatter_matrix(stat, figsize=(12, 12))"
   ]
  },
  {
   "cell_type": "markdown",
   "metadata": {},
   "source": [
    "<div class=\"alert alert-success\">\n",
    "<b>ОТЛИЧНО! 👍</b>\n",
    "\n",
    "Молодец! Используя (critic_score != 0) ты даешь мне понять, что факт заполнения пропусков \"заглушкой\" в оценках критиков не забыт. Очень грамотно!</div>"
   ]
  },
  {
   "cell_type": "markdown",
   "metadata": {},
   "source": [
    "<div class=\"alert alert-warning\">\n",
    "<b>Комментарий 👉</b>\n",
    "\n",
    "**user_score != 0** - фильтр работает? У нас есть такие значения в данных?\n",
    "</div>"
   ]
  },
  {
   "cell_type": "markdown",
   "metadata": {},
   "source": [
    "<div class=\"alert alert-warning\">\n",
    "<b>Комментарий 👉</b>\n",
    "\n",
    "Обрати внимание на ячейку, которую я сейчас комментирую – видишь слайдер («бегунок») снизу? Он показывает, что код не помещается в видимые границы ячейки (и чтобы его полностью «прочитать» - нужно использовать мышь. Код очень длинный.\n",
    "\n",
    "Код очень длинный (а PEP8 определяет длину строки в 79 символов) - попробуй длинные - переносить, а между строками использовать пустые строки. Ну и желательно код комментировать, хотя бы коротко (что делаешь и каков будет результат - так твоим коллегам будет проще за твоей мыслью следить). Этот комментарий может относиться к нескольким ячейкам этой «тетрадки».\n",
    "\n",
    "Хороший разработчик форматирует и комментирует свой код, тогда другие разработчики быстрее разберутся в программе. Это важно, ведь код чаще читают, чем пишут: напишет один, а прочтут — сотни или тысячи (если код хороший). \n",
    "«Пишите код так, как будто сопровождать его будет склонный к насилию психопат, который знает, где вы живете.» ©1991, John F. Woods, разработчик\n",
    "\n",
    "---\n",
    "Давай обсудим стиль кодирования (программирования)? Смотри что сейчас происходит в этой ячейке (**не всё применимо к твоему коду здесь, но я попытался собрать и представить здесь самые ценные советы из PEP8 по организации кода**) и что можно сделать по-другому, чуть лучше:\n",
    "\n",
    "1. Комментарии к строке кода: они должны располагаться выше соответствующей строки кода (выше строки к которой относятся) и должны быть от этой строки отделены пустой строкой. Если же они расположены справа, то для того чтобы увидеть, что там написано приходится пользоваться скроллиногом. Надо добиться того, чтобы ячейку не приходилось прокручивать, т.к. это не добавляет удобства ни при отладке кода, ни для понимания что в этой ячейке \"происходит\". Как альтернатива – комментарий может размещаться выше, в Markdown-ячейке.\n",
    "    \n",
    "2. Бывает, что встречаются очень длинные строки кода, которые также уходят за правый край ячейки. Такие строки должны разбиваться разделителем (вот таким: \\\\). Это best practice, требование PEP8, а именно: PEP8 определяет длину строки в 79 символов.\n",
    "    \n",
    "3. **В идеале**: одна ячейка - одна строка кода. Почему так? Да как минимум из соображения понятности: будучи выполненной, под этой ячейкой должен отображаться результат трансформации данных. Ты или твой коллега должны видеть, как поменялись данные после выполнения ячейки с кодом. Следующая ячейка - ещё строка кода и соответствующим output'ом. Будешь делать так - коллеги будут тебе благодарны за то, что легко будут следовать за твоей мыслью. И отладку это упрощает. Ну и как противоположность - можно в одну ячейку \"положить\" результат 3-х последовательных groupby + ещё чего-нибудь. Разобраться с ходу \"что происходит\" будет очень трудно, придётся всё равно код разносить по ячейкам и смотреть последовательно что происходит. Но ведь логично это делать удобным способом сразу, ведь так?\n",
    "    \n",
    "4. Неиспользуемые, закомментированные строки выше вынеси в другую ячейку, отдельную, выше. Можешь для удобства своего прокомментировать (на память). И оставь там это код, так, чтобы он не смешивался с рабочим кодом.\n",
    "\n",
    "p.s. возможно и в следующих ячейках твоей «тетрадки» будет код, который просмотреть можно только используя мышку, но я этот момент более комментировать не буду – просто обращай внимание на слайдер под ячейкой с кодом.\n",
    "</div>"
   ]
  },
  {
   "cell_type": "markdown",
   "metadata": {},
   "source": [
    "По диаграммам рассеяния не видно особой корелляции, возможно из-за большого кол-ва \"аномальных\" значений, посмотрим на матрицу корреляции:"
   ]
  },
  {
   "cell_type": "code",
   "execution_count": 116,
   "metadata": {},
   "outputs": [
    {
     "data": {
      "text/html": [
       "<div>\n",
       "<style scoped>\n",
       "    .dataframe tbody tr th:only-of-type {\n",
       "        vertical-align: middle;\n",
       "    }\n",
       "\n",
       "    .dataframe tbody tr th {\n",
       "        vertical-align: top;\n",
       "    }\n",
       "\n",
       "    .dataframe thead th {\n",
       "        text-align: right;\n",
       "    }\n",
       "</style>\n",
       "<table border=\"1\" class=\"dataframe\">\n",
       "  <thead>\n",
       "    <tr style=\"text-align: right;\">\n",
       "      <th></th>\n",
       "      <th>critic_score</th>\n",
       "      <th>total_sales</th>\n",
       "      <th>user_score</th>\n",
       "    </tr>\n",
       "  </thead>\n",
       "  <tbody>\n",
       "    <tr>\n",
       "      <th>critic_score</th>\n",
       "      <td>1.000000</td>\n",
       "      <td>0.334285</td>\n",
       "      <td>0.599920</td>\n",
       "    </tr>\n",
       "    <tr>\n",
       "      <th>total_sales</th>\n",
       "      <td>0.334285</td>\n",
       "      <td>1.000000</td>\n",
       "      <td>0.022691</td>\n",
       "    </tr>\n",
       "    <tr>\n",
       "      <th>user_score</th>\n",
       "      <td>0.599920</td>\n",
       "      <td>0.022691</td>\n",
       "      <td>1.000000</td>\n",
       "    </tr>\n",
       "  </tbody>\n",
       "</table>\n",
       "</div>"
      ],
      "text/plain": [
       "              critic_score  total_sales  user_score\n",
       "critic_score      1.000000     0.334285    0.599920\n",
       "total_sales       0.334285     1.000000    0.022691\n",
       "user_score        0.599920     0.022691    1.000000"
      ]
     },
     "execution_count": 116,
     "metadata": {},
     "output_type": "execute_result"
    }
   ],
   "source": [
    "stat.corr()"
   ]
  },
  {
   "cell_type": "markdown",
   "metadata": {},
   "source": [
    "По матрице корреляции можно сказать, что суммарные продажи обладают прямой, слабой степенью выраженности от оценки критиков и практически никак не коррелируют с оценками пользователей."
   ]
  },
  {
   "cell_type": "markdown",
   "metadata": {},
   "source": [
    "<div class=\"alert alert-danger\">\n",
    "<b>Необходимо исправить ❌</b>\n",
    "\n",
    "Дьявол кроется в формулировках: **суммарные продажи средне зависят от оценки критиков и мало зависят от оценки пользователей** - говорить так в общем случае неверно.\n",
    "\n",
    "---\n",
    "Формулировать, что коэффициент  корреляции (Пирсона) между 2 переменными (в нашем случае между total_sales и critic_score / user_score) есть показатель того, что **на количество продаж влияет оценка ** - неверно. Корреляция не подразумевает наличие причинно-следственной связи между переменными.\n",
    "    \n",
    "Коэффициент свидетельствует **о наличии или отсутствии линейной связи** между переменными, и **измеряет выраженность** этой связи. Другими словами, коэффициент корреляции - это инструмент, с помощью которого можно проверить гипотезу о **линейной** зависимости и измерить степень этой зависимости.\n",
    "    \n",
    "Например, в нашем случае, связь между продажами и оценками экспертов для всех платформ является **прямой, слабой** степени выраженности (во всех случаях коэффициент около 0,3-0,4).\n",
    "\n",
    "Я бы твою фразу переписал бы так (**ПРИМЕР**): \"Оценки критиков демонстрируют прямую, средне-слабую корреляцию с \"цифрами\" продаж. Оценки пользователей корреляции с продажами не имеют\".\n",
    "\n",
    "Понимаешь, нет влияния оценок на продажи. Коэффициент корреляции Пирсона не про это. Он про линейную зависимость 2-х переменных. И ещё, это коэффициент **НЕ ОБЪЯСНЯЕТ** зависимость, он **НЕ ГОВОРИТ** почему наблюдается такой эффект, но просто констатирует факт, что корреляция наблюдается (например, \"мы видим, что те игры, которым наши эксперты дают высокие оценки - продаются лучше\". А вот почему они продаются лучше - можно только предполагать ... разные причины могут быть). Вот смешная статейка на эту тему: https://ktonanovenkogo.ru/voprosy-i-otvety/korrelyaciya-chto-ehto-takoe-prostymi-slovami.html </div>"
   ]
  },
  {
   "cell_type": "markdown",
   "metadata": {},
   "source": [
    "<div style=\"background: #B0E0E6; padding: 5px; border: 1px solid SteelBlue; border-radius: 5px;\">\n",
    "    <font color='4682B4'><u><b>Миша</b></u></font>\n",
    "    <br />\n",
    "    <font color='4682B4'>Исправил</font>\n",
    "</div>"
   ]
  },
  {
   "cell_type": "markdown",
   "metadata": {},
   "source": [
    "<div class=\"alert alert-success\">\n",
    "<b>КОММЕНТАРИЙ V2</b>\n",
    "\n",
    "Да, теперь всё верно!!!\n",
    "\n",
    "---\n",
    "Но ещё раз, в связи с частыми ошибками в формулировках, **на будущее**: объяснять корреляцию/зависимость **причинной связью** нельзя.\n",
    "    \n",
    "Пример: на улице начали появляться мухи и одновременно стали увеличиваться продажи мороженного. Есть такая зависимость? Да, конечно есть! \n",
    "    \n",
    "Но, правда, что мороженного стали есть больше потому, что мухи \"полетели\"? Причина в мухах? Нет, конечно же нет. Причина в том, что поднимается температура воздуха (третья переменная), начинается лето.\n",
    "</div>\n"
   ]
  },
  {
   "cell_type": "markdown",
   "metadata": {},
   "source": [
    "Посмотрим на зависимость продаж от отзывов для приставки PS4:"
   ]
  },
  {
   "cell_type": "code",
   "execution_count": 117,
   "metadata": {},
   "outputs": [
    {
     "data": {
      "text/plain": [
       "array([[<Axes: xlabel='critic_score', ylabel='critic_score'>,\n",
       "        <Axes: xlabel='total_sales', ylabel='critic_score'>,\n",
       "        <Axes: xlabel='user_score', ylabel='critic_score'>],\n",
       "       [<Axes: xlabel='critic_score', ylabel='total_sales'>,\n",
       "        <Axes: xlabel='total_sales', ylabel='total_sales'>,\n",
       "        <Axes: xlabel='user_score', ylabel='total_sales'>],\n",
       "       [<Axes: xlabel='critic_score', ylabel='user_score'>,\n",
       "        <Axes: xlabel='total_sales', ylabel='user_score'>,\n",
       "        <Axes: xlabel='user_score', ylabel='user_score'>]], dtype=object)"
      ]
     },
     "execution_count": 117,
     "metadata": {},
     "output_type": "execute_result"
    },
    {
     "data": {
      "image/png": "[encoded data removed]",
      "text/plain": [
       "<Figure size 1200x1200 with 9 Axes>"
      ]
     },
     "metadata": {},
     "output_type": "display_data"
    }
   ],
   "source": [
    "stat = df1.query('critic_score != 0 and user_score != 0 and platform == \"PS4\"').pivot_table(index='name', values=['total_sales', 'critic_score', 'user_score'])\n",
    "pd.plotting.scatter_matrix(stat, figsize=(12, 12))"
   ]
  },
  {
   "cell_type": "code",
   "execution_count": 118,
   "metadata": {},
   "outputs": [
    {
     "data": {
      "text/html": [
       "<div>\n",
       "<style scoped>\n",
       "    .dataframe tbody tr th:only-of-type {\n",
       "        vertical-align: middle;\n",
       "    }\n",
       "\n",
       "    .dataframe tbody tr th {\n",
       "        vertical-align: top;\n",
       "    }\n",
       "\n",
       "    .dataframe thead th {\n",
       "        text-align: right;\n",
       "    }\n",
       "</style>\n",
       "<table border=\"1\" class=\"dataframe\">\n",
       "  <thead>\n",
       "    <tr style=\"text-align: right;\">\n",
       "      <th></th>\n",
       "      <th>critic_score</th>\n",
       "      <th>total_sales</th>\n",
       "      <th>user_score</th>\n",
       "    </tr>\n",
       "  </thead>\n",
       "  <tbody>\n",
       "    <tr>\n",
       "      <th>critic_score</th>\n",
       "      <td>1.000000</td>\n",
       "      <td>0.406568</td>\n",
       "      <td>0.557654</td>\n",
       "    </tr>\n",
       "    <tr>\n",
       "      <th>total_sales</th>\n",
       "      <td>0.406568</td>\n",
       "      <td>1.000000</td>\n",
       "      <td>-0.033625</td>\n",
       "    </tr>\n",
       "    <tr>\n",
       "      <th>user_score</th>\n",
       "      <td>0.557654</td>\n",
       "      <td>-0.033625</td>\n",
       "      <td>1.000000</td>\n",
       "    </tr>\n",
       "  </tbody>\n",
       "</table>\n",
       "</div>"
      ],
      "text/plain": [
       "              critic_score  total_sales  user_score\n",
       "critic_score      1.000000     0.406568    0.557654\n",
       "total_sales       0.406568     1.000000   -0.033625\n",
       "user_score        0.557654    -0.033625    1.000000"
      ]
     },
     "execution_count": 118,
     "metadata": {},
     "output_type": "execute_result"
    }
   ],
   "source": [
    "stat.corr()"
   ]
  },
  {
   "cell_type": "markdown",
   "metadata": {},
   "source": [
    "По матрице корреляции можно сказать, что суммарные продажи обладают прямой, слабой степенью выраженности от оценки критиков и пактически не коррелируют с оценками пользователей."
   ]
  },
  {
   "cell_type": "markdown",
   "metadata": {},
   "source": [
    "<div class=\"alert alert-danger\">\n",
    "<b>Необходимо исправить ❌</b>\n",
    "\n",
    "Поправь пожалуйста вывод (с учётом большого красного комментария выше). В выводе не должно быть слов, которые трактуют продажи, как причинную связь (влияние) от оценок. Есть корреляция (наблюдаемый факт, видимая зависимость на графике). Причинной же связи нет, влияния оценок на продажи тоже нет.\n",
    "</div>"
   ]
  },
  {
   "cell_type": "markdown",
   "metadata": {},
   "source": [
    "<div class=\"alert alert-success\">\n",
    "<b>КОММЕНТАРИЙ V2</b> \t\n",
    "\n",
    "+\n",
    "</div>"
   ]
  },
  {
   "cell_type": "markdown",
   "metadata": {},
   "source": [
    "### Посмотрим на общее распределение по жанрам"
   ]
  },
  {
   "cell_type": "markdown",
   "metadata": {},
   "source": [
    "Для начала посмотрим на гистограмму:"
   ]
  },
  {
   "cell_type": "code",
   "execution_count": 119,
   "metadata": {},
   "outputs": [
    {
     "data": {
      "image/png": "[encoded data removed]",
      "text/plain": [
       "<Figure size 640x480 with 1 Axes>"
      ]
     },
     "metadata": {},
     "output_type": "display_data"
    }
   ],
   "source": [
    "df1['genre'].hist(bins=30)\n",
    "plt.title('Общее распределение по жанрам', fontsize=16, pad=20)\n",
    "plt.xlabel('Жанр', labelpad=10, fontsize=14)\n",
    "plt.xticks(rotation=90)\n",
    "plt.ylabel('Частота', labelpad=20, fontsize=14)\n",
    "plt.show()"
   ]
  },
  {
   "cell_type": "markdown",
   "metadata": {},
   "source": [
    "Больше всего игр в жанре 'Action', меньше всего - в 'Puzzle'."
   ]
  },
  {
   "cell_type": "markdown",
   "metadata": {},
   "source": [
    "Теперь посмотрим на суммарные продажи игр определённых жанров:"
   ]
  },
  {
   "cell_type": "code",
   "execution_count": 120,
   "metadata": {},
   "outputs": [
    {
     "data": {
      "text/html": [
       "<div>\n",
       "<style scoped>\n",
       "    .dataframe tbody tr th:only-of-type {\n",
       "        vertical-align: middle;\n",
       "    }\n",
       "\n",
       "    .dataframe tbody tr th {\n",
       "        vertical-align: top;\n",
       "    }\n",
       "\n",
       "    .dataframe thead th {\n",
       "        text-align: right;\n",
       "    }\n",
       "</style>\n",
       "<table border=\"1\" class=\"dataframe\">\n",
       "  <thead>\n",
       "    <tr style=\"text-align: right;\">\n",
       "      <th></th>\n",
       "      <th>total_sales</th>\n",
       "    </tr>\n",
       "    <tr>\n",
       "      <th>genre</th>\n",
       "      <th></th>\n",
       "    </tr>\n",
       "  </thead>\n",
       "  <tbody>\n",
       "    <tr>\n",
       "      <th>Shooter</th>\n",
       "      <td>1.245882</td>\n",
       "    </tr>\n",
       "    <tr>\n",
       "      <th>Sports</th>\n",
       "      <td>0.703972</td>\n",
       "    </tr>\n",
       "    <tr>\n",
       "      <th>Platform</th>\n",
       "      <td>0.576081</td>\n",
       "    </tr>\n",
       "    <tr>\n",
       "      <th>Role-Playing</th>\n",
       "      <td>0.499623</td>\n",
       "    </tr>\n",
       "    <tr>\n",
       "      <th>Racing</th>\n",
       "      <td>0.469294</td>\n",
       "    </tr>\n",
       "    <tr>\n",
       "      <th>Fighting</th>\n",
       "      <td>0.441375</td>\n",
       "    </tr>\n",
       "    <tr>\n",
       "      <th>Action</th>\n",
       "      <td>0.420196</td>\n",
       "    </tr>\n",
       "    <tr>\n",
       "      <th>Misc</th>\n",
       "      <td>0.405290</td>\n",
       "    </tr>\n",
       "    <tr>\n",
       "      <th>Simulation</th>\n",
       "      <td>0.350968</td>\n",
       "    </tr>\n",
       "    <tr>\n",
       "      <th>Puzzle</th>\n",
       "      <td>0.186471</td>\n",
       "    </tr>\n",
       "    <tr>\n",
       "      <th>Strategy</th>\n",
       "      <td>0.180000</td>\n",
       "    </tr>\n",
       "    <tr>\n",
       "      <th>Adventure</th>\n",
       "      <td>0.096490</td>\n",
       "    </tr>\n",
       "  </tbody>\n",
       "</table>\n",
       "</div>"
      ],
      "text/plain": [
       "              total_sales\n",
       "genre                    \n",
       "Shooter          1.245882\n",
       "Sports           0.703972\n",
       "Platform         0.576081\n",
       "Role-Playing     0.499623\n",
       "Racing           0.469294\n",
       "Fighting         0.441375\n",
       "Action           0.420196\n",
       "Misc             0.405290\n",
       "Simulation       0.350968\n",
       "Puzzle           0.186471\n",
       "Strategy         0.180000\n",
       "Adventure        0.096490"
      ]
     },
     "execution_count": 120,
     "metadata": {},
     "output_type": "execute_result"
    }
   ],
   "source": [
    "df1.pivot_table(index='genre', values='total_sales', aggfunc='mean').sort_values(by='total_sales', ascending=False)"
   ]
  },
  {
   "cell_type": "markdown",
   "metadata": {},
   "source": [
    "<div class=\"alert alert-danger\">\n",
    "<b>Необходимо исправить ❌</b>\n",
    "\n",
    "Здесь у нас возникла проблема: по суммарным (sum, count) объемам продаж у тебя получилось, что явный лидер - игры в жанре Экшн. Если же ты рассмотришь медианные или средние (mean) значения, то результат поменяется в пользу Шуттеров. Учти тот факт, что игр в жанре Экшн выпускается значительно больше, чем других (в 1,5-2 раза). Доля количества игр в жанре «стрелялок» - всего лишь 8%. Очевидно, что в жанре Экшн присутствует большое количество непопулярных игр с низкими объёмами продаж, в результате чего общий объём продаж жанра \"раздут\" и берётся количеством, а не качеством. Медиана учитывает не только слишком большие\\маленькие значения относительно среднего, но и их количество. Поэтому брать итоговые результаты медианы или среднего более корректно.\n",
    "\n",
    "В сухом остатке: попробуй рассмотреть не общие продажи, а медианные (или средние). Общие продажи - плохая метрика для поиска наиболее прибыльного жанра. За высокими показателями общих продаж может скрываться множество мелких игр с низкими продажами. Или 2-3 звезды и куча провалов. Лучше найти жанр, где игры стабильно приносят высокий доход - для этого стоит рассмотреть средние (или медианные продажи). Я думаю, что анализ медианных показателей позволит тебе найти жанр, который приносит высокий доход.\n",
    "</div>"
   ]
  },
  {
   "cell_type": "markdown",
   "metadata": {},
   "source": [
    "<div style=\"background: #B0E0E6; padding: 5px; border: 1px solid SteelBlue; border-radius: 5px;\">\n",
    "    <font color='4682B4'><u><b>Миша</b></u></font>\n",
    "    <br />\n",
    "    <font color='4682B4'>Я исправил рейтинг по среднему значению</font>\n",
    "</div>"
   ]
  },
  {
   "cell_type": "markdown",
   "metadata": {},
   "source": [
    "'Shooter' и 'Sports' тут в фаворитах, а вот на последнем месте уже жанр 'Adventure'. "
   ]
  },
  {
   "cell_type": "markdown",
   "metadata": {},
   "source": [
    "<div class=\"alert alert-success\">\n",
    "<b>КОММЕНТАРИЙ V2</b>\n",
    "\n",
    "Да, отлично, теперь самый прибыльный жанр (Шуттеры) определен верно! Также ты верно и самые «не прибыльные» жанры определяешь.\n",
    "</div>\n"
   ]
  },
  {
   "cell_type": "markdown",
   "metadata": {},
   "source": [
    "## Составим портрет пользователя каждого региона"
   ]
  },
  {
   "cell_type": "markdown",
   "metadata": {},
   "source": [
    "Для каждого региона определим следующее:"
   ]
  },
  {
   "cell_type": "markdown",
   "metadata": {},
   "source": [
    "### Самые популярные платформы (топ-5)"
   ]
  },
  {
   "cell_type": "markdown",
   "metadata": {},
   "source": [
    "Посмотрим на продажи платформ в кажом регионе:"
   ]
  },
  {
   "cell_type": "code",
   "execution_count": 121,
   "metadata": {},
   "outputs": [
    {
     "data": {
      "text/html": [
       "<div>\n",
       "<style scoped>\n",
       "    .dataframe tbody tr th:only-of-type {\n",
       "        vertical-align: middle;\n",
       "    }\n",
       "\n",
       "    .dataframe tbody tr th {\n",
       "        vertical-align: top;\n",
       "    }\n",
       "\n",
       "    .dataframe thead th {\n",
       "        text-align: right;\n",
       "    }\n",
       "</style>\n",
       "<table border=\"1\" class=\"dataframe\">\n",
       "  <thead>\n",
       "    <tr style=\"text-align: right;\">\n",
       "      <th></th>\n",
       "      <th>eu_sales</th>\n",
       "      <th>jp_sales</th>\n",
       "      <th>na_sales</th>\n",
       "    </tr>\n",
       "    <tr>\n",
       "      <th>platform</th>\n",
       "      <th></th>\n",
       "      <th></th>\n",
       "      <th></th>\n",
       "    </tr>\n",
       "  </thead>\n",
       "  <tbody>\n",
       "    <tr>\n",
       "      <th>3DS</th>\n",
       "      <td>30.96</td>\n",
       "      <td>67.81</td>\n",
       "      <td>38.20</td>\n",
       "    </tr>\n",
       "    <tr>\n",
       "      <th>DS</th>\n",
       "      <td>0.85</td>\n",
       "      <td>0.00</td>\n",
       "      <td>0.57</td>\n",
       "    </tr>\n",
       "    <tr>\n",
       "      <th>PC</th>\n",
       "      <td>25.36</td>\n",
       "      <td>0.00</td>\n",
       "      <td>11.11</td>\n",
       "    </tr>\n",
       "    <tr>\n",
       "      <th>PS3</th>\n",
       "      <td>67.81</td>\n",
       "      <td>23.35</td>\n",
       "      <td>63.50</td>\n",
       "    </tr>\n",
       "    <tr>\n",
       "      <th>PS4</th>\n",
       "      <td>141.09</td>\n",
       "      <td>15.96</td>\n",
       "      <td>108.74</td>\n",
       "    </tr>\n",
       "    <tr>\n",
       "      <th>PSP</th>\n",
       "      <td>0.17</td>\n",
       "      <td>3.29</td>\n",
       "      <td>0.00</td>\n",
       "    </tr>\n",
       "    <tr>\n",
       "      <th>PSV</th>\n",
       "      <td>6.10</td>\n",
       "      <td>18.59</td>\n",
       "      <td>5.04</td>\n",
       "    </tr>\n",
       "    <tr>\n",
       "      <th>Wii</th>\n",
       "      <td>5.93</td>\n",
       "      <td>0.05</td>\n",
       "      <td>6.56</td>\n",
       "    </tr>\n",
       "    <tr>\n",
       "      <th>WiiU</th>\n",
       "      <td>19.85</td>\n",
       "      <td>10.88</td>\n",
       "      <td>29.21</td>\n",
       "    </tr>\n",
       "    <tr>\n",
       "      <th>X360</th>\n",
       "      <td>42.52</td>\n",
       "      <td>0.51</td>\n",
       "      <td>81.66</td>\n",
       "    </tr>\n",
       "    <tr>\n",
       "      <th>XOne</th>\n",
       "      <td>51.59</td>\n",
       "      <td>0.34</td>\n",
       "      <td>93.12</td>\n",
       "    </tr>\n",
       "  </tbody>\n",
       "</table>\n",
       "</div>"
      ],
      "text/plain": [
       "          eu_sales  jp_sales  na_sales\n",
       "platform                              \n",
       "3DS          30.96     67.81     38.20\n",
       "DS            0.85      0.00      0.57\n",
       "PC           25.36      0.00     11.11\n",
       "PS3          67.81     23.35     63.50\n",
       "PS4         141.09     15.96    108.74\n",
       "PSP           0.17      3.29      0.00\n",
       "PSV           6.10     18.59      5.04\n",
       "Wii           5.93      0.05      6.56\n",
       "WiiU         19.85     10.88     29.21\n",
       "X360         42.52      0.51     81.66\n",
       "XOne         51.59      0.34     93.12"
      ]
     },
     "execution_count": 121,
     "metadata": {},
     "output_type": "execute_result"
    }
   ],
   "source": [
    "platform_sales = df1.pivot_table(index='platform', values=['na_sales', 'eu_sales', 'jp_sales'], aggfunc='sum')\n",
    "platform_sales"
   ]
  },
  {
   "cell_type": "markdown",
   "metadata": {},
   "source": [
    "#### Топ 5 платформ в NA (Северной Америке)"
   ]
  },
  {
   "cell_type": "code",
   "execution_count": 122,
   "metadata": {},
   "outputs": [
    {
     "data": {
      "image/png": "[encoded data removed]",
      "text/plain": [
       "<Figure size 640x480 with 1 Axes>"
      ]
     },
     "metadata": {},
     "output_type": "display_data"
    }
   ],
   "source": [
    "platform_sales[['na_sales']].sort_values(by='na_sales',ascending = False).head().plot.bar()\n",
    "plt.title('Топ 5 платформ по продажам в Северной Америке', fontsize=16, pad=20)\n",
    "plt.show()"
   ]
  },
  {
   "cell_type": "markdown",
   "metadata": {},
   "source": [
    "Для Северной Америки максимальное кол-во продаж было у PS4, на втором месте - XOne, 5 место занимает 3DS."
   ]
  },
  {
   "cell_type": "markdown",
   "metadata": {},
   "source": [
    "#### Топ 5 платформ в EU (Европе)"
   ]
  },
  {
   "cell_type": "code",
   "execution_count": 123,
   "metadata": {},
   "outputs": [
    {
     "data": {
      "image/png": "[encoded data removed]",
      "text/plain": [
       "<Figure size 640x480 with 1 Axes>"
      ]
     },
     "metadata": {},
     "output_type": "display_data"
    }
   ],
   "source": [
    "platform_sales[['eu_sales']].sort_values(by='eu_sales',ascending = False).head().plot.bar()\n",
    "plt.title('Топ 5 платформ по продажам в Европе', fontsize=16, pad=20)\n",
    "plt.show()"
   ]
  },
  {
   "cell_type": "markdown",
   "metadata": {},
   "source": [
    "Здесь на втором месте уже PS3, на 3 и 4 местах тоже другие платформы, но все они есть в топ 5 в Северной Америке."
   ]
  },
  {
   "cell_type": "markdown",
   "metadata": {},
   "source": [
    "#### Топ 5 платформ в JP (Японии)"
   ]
  },
  {
   "cell_type": "code",
   "execution_count": 124,
   "metadata": {},
   "outputs": [
    {
     "data": {
      "image/png": "[encoded data removed]",
      "text/plain": [
       "<Figure size 640x480 with 1 Axes>"
      ]
     },
     "metadata": {},
     "output_type": "display_data"
    }
   ],
   "source": [
    "platform_sales[['jp_sales']].sort_values(by='jp_sales',ascending = False).head().plot.bar()\n",
    "plt.title('Топ 5 платформ по продажам в Японии', fontsize=16, pad=20)\n",
    "plt.show()"
   ]
  },
  {
   "cell_type": "markdown",
   "metadata": {},
   "source": [
    "В Японии платофрма 3DS занимает 1 позицию с сильным отрывом, на 3 месте уже есть платфома PS5, я думаю это из-за того что компания 'Sony', которая производит эти консоли расположена в Японии и эти приставки ещё не продали в остальном мире."
   ]
  },
  {
   "cell_type": "markdown",
   "metadata": {},
   "source": [
    "### Самые популярные жанры (топ-5)"
   ]
  },
  {
   "cell_type": "markdown",
   "metadata": {},
   "source": [
    "Сделаем сводную таблицу по жанрам (популярность будем также оценивать по продажам):"
   ]
  },
  {
   "cell_type": "code",
   "execution_count": 125,
   "metadata": {},
   "outputs": [
    {
     "data": {
      "text/html": [
       "<div>\n",
       "<style scoped>\n",
       "    .dataframe tbody tr th:only-of-type {\n",
       "        vertical-align: middle;\n",
       "    }\n",
       "\n",
       "    .dataframe tbody tr th {\n",
       "        vertical-align: top;\n",
       "    }\n",
       "\n",
       "    .dataframe thead th {\n",
       "        text-align: right;\n",
       "    }\n",
       "</style>\n",
       "<table border=\"1\" class=\"dataframe\">\n",
       "  <thead>\n",
       "    <tr style=\"text-align: right;\">\n",
       "      <th></th>\n",
       "      <th>eu_sales</th>\n",
       "      <th>jp_sales</th>\n",
       "      <th>na_sales</th>\n",
       "    </tr>\n",
       "    <tr>\n",
       "      <th>genre</th>\n",
       "      <th></th>\n",
       "      <th></th>\n",
       "      <th></th>\n",
       "    </tr>\n",
       "  </thead>\n",
       "  <tbody>\n",
       "    <tr>\n",
       "      <th>Action</th>\n",
       "      <td>118.13</td>\n",
       "      <td>40.49</td>\n",
       "      <td>126.05</td>\n",
       "    </tr>\n",
       "    <tr>\n",
       "      <th>Adventure</th>\n",
       "      <td>8.25</td>\n",
       "      <td>5.82</td>\n",
       "      <td>7.14</td>\n",
       "    </tr>\n",
       "    <tr>\n",
       "      <th>Fighting</th>\n",
       "      <td>8.55</td>\n",
       "      <td>7.65</td>\n",
       "      <td>15.55</td>\n",
       "    </tr>\n",
       "    <tr>\n",
       "      <th>Misc</th>\n",
       "      <td>20.04</td>\n",
       "      <td>9.20</td>\n",
       "      <td>27.49</td>\n",
       "    </tr>\n",
       "    <tr>\n",
       "      <th>Platform</th>\n",
       "      <td>15.58</td>\n",
       "      <td>4.79</td>\n",
       "      <td>18.14</td>\n",
       "    </tr>\n",
       "    <tr>\n",
       "      <th>Puzzle</th>\n",
       "      <td>1.00</td>\n",
       "      <td>1.18</td>\n",
       "      <td>0.83</td>\n",
       "    </tr>\n",
       "    <tr>\n",
       "      <th>Racing</th>\n",
       "      <td>20.19</td>\n",
       "      <td>2.30</td>\n",
       "      <td>12.96</td>\n",
       "    </tr>\n",
       "    <tr>\n",
       "      <th>Role-Playing</th>\n",
       "      <td>36.97</td>\n",
       "      <td>51.04</td>\n",
       "      <td>46.40</td>\n",
       "    </tr>\n",
       "    <tr>\n",
       "      <th>Shooter</th>\n",
       "      <td>87.86</td>\n",
       "      <td>6.61</td>\n",
       "      <td>109.74</td>\n",
       "    </tr>\n",
       "    <tr>\n",
       "      <th>Simulation</th>\n",
       "      <td>10.92</td>\n",
       "      <td>4.52</td>\n",
       "      <td>4.86</td>\n",
       "    </tr>\n",
       "    <tr>\n",
       "      <th>Sports</th>\n",
       "      <td>60.52</td>\n",
       "      <td>5.41</td>\n",
       "      <td>65.27</td>\n",
       "    </tr>\n",
       "    <tr>\n",
       "      <th>Strategy</th>\n",
       "      <td>4.22</td>\n",
       "      <td>1.77</td>\n",
       "      <td>3.28</td>\n",
       "    </tr>\n",
       "  </tbody>\n",
       "</table>\n",
       "</div>"
      ],
      "text/plain": [
       "              eu_sales  jp_sales  na_sales\n",
       "genre                                     \n",
       "Action          118.13     40.49    126.05\n",
       "Adventure         8.25      5.82      7.14\n",
       "Fighting          8.55      7.65     15.55\n",
       "Misc             20.04      9.20     27.49\n",
       "Platform         15.58      4.79     18.14\n",
       "Puzzle            1.00      1.18      0.83\n",
       "Racing           20.19      2.30     12.96\n",
       "Role-Playing     36.97     51.04     46.40\n",
       "Shooter          87.86      6.61    109.74\n",
       "Simulation       10.92      4.52      4.86\n",
       "Sports           60.52      5.41     65.27\n",
       "Strategy          4.22      1.77      3.28"
      ]
     },
     "execution_count": 125,
     "metadata": {},
     "output_type": "execute_result"
    }
   ],
   "source": [
    "genre_sales = df1.pivot_table(index='genre', values=['na_sales', 'eu_sales', 'jp_sales'], aggfunc='sum')\n",
    "genre_sales"
   ]
  },
  {
   "cell_type": "markdown",
   "metadata": {},
   "source": [
    "#### Топ 5 жанров в NA (Северной Америке)"
   ]
  },
  {
   "cell_type": "code",
   "execution_count": 126,
   "metadata": {},
   "outputs": [
    {
     "data": {
      "image/png": "[encoded data removed]",
      "text/plain": [
       "<Figure size 640x480 with 1 Axes>"
      ]
     },
     "metadata": {},
     "output_type": "display_data"
    }
   ],
   "source": [
    "genre_sales[['na_sales']].sort_values(by='na_sales',ascending = False).head().plot.bar()\n",
    "plt.title('Топ 5 жанров по продажам в Северной Америке', fontsize=16, pad=20)\n",
    "plt.show()"
   ]
  },
  {
   "cell_type": "markdown",
   "metadata": {},
   "source": [
    "Для Северной Америки как и для продаж по всем регионам на 1 месте - жанр 'Action', на втором - 'Shooter'. На 5 месте жанр 'Misc'."
   ]
  },
  {
   "cell_type": "markdown",
   "metadata": {},
   "source": [
    "#### Топ 5 жанров в EU (Европе)"
   ]
  },
  {
   "cell_type": "code",
   "execution_count": 127,
   "metadata": {},
   "outputs": [
    {
     "data": {
      "image/png": "[encoded data removed]",
      "text/plain": [
       "<Figure size 640x480 with 1 Axes>"
      ]
     },
     "metadata": {},
     "output_type": "display_data"
    }
   ],
   "source": [
    "genre_sales[['eu_sales']].sort_values(by='eu_sales',ascending = False).head().plot.bar()\n",
    "plt.title('Топ 5 жанров по продажам в Европе', fontsize=16, pad=20)\n",
    "plt.show()"
   ]
  },
  {
   "cell_type": "markdown",
   "metadata": {},
   "source": [
    "Топ 5 для Европы практически во всем сходится с Северной Америкой."
   ]
  },
  {
   "cell_type": "markdown",
   "metadata": {},
   "source": [
    "#### Топ 5 жанров в JP (Японии)"
   ]
  },
  {
   "cell_type": "code",
   "execution_count": 128,
   "metadata": {},
   "outputs": [
    {
     "data": {
      "image/png": "[encoded data removed]",
      "text/plain": [
       "<Figure size 640x480 with 1 Axes>"
      ]
     },
     "metadata": {},
     "output_type": "display_data"
    }
   ],
   "source": [
    "genre_sales[['jp_sales']].sort_values(by='jp_sales',ascending = False).head().plot.bar()\n",
    "plt.title('Топ 5 жанров по продажам в Японии', fontsize=16, pad=20)\n",
    "plt.show()"
   ]
  },
  {
   "cell_type": "markdown",
   "metadata": {},
   "source": [
    "В Японии первое место с занимает жанр 'Role-Playing', что сильно отличается от Европы и Северной Америки. Также можно заметить жанр 'Fighting' на 4 месте."
   ]
  },
  {
   "cell_type": "markdown",
   "metadata": {},
   "source": [
    "<div class=\"alert alert-success\">\n",
    "<b>ОТЛИЧНО! 👍</b>\n",
    "\n",
    "В этих 2х подразделах всё отлично! Предпочтения геймеров 3х регионов в отношении игровых платформ и жанров определены. Ну и выводы соответственно описывают эти отличия.</div>"
   ]
  },
  {
   "cell_type": "markdown",
   "metadata": {},
   "source": [
    "### Влияние рейтинга ESRB на продажи в разных регионах"
   ]
  },
  {
   "cell_type": "markdown",
   "metadata": {},
   "source": [
    "Снова создадим сводную таблицу и посмотрим на продажи по категориям в разных регионах:"
   ]
  },
  {
   "cell_type": "code",
   "execution_count": 111,
   "metadata": {},
   "outputs": [
    {
     "data": {
      "text/html": [
       "<div>\n",
       "<style scoped>\n",
       "    .dataframe tbody tr th:only-of-type {\n",
       "        vertical-align: middle;\n",
       "    }\n",
       "\n",
       "    .dataframe tbody tr th {\n",
       "        vertical-align: top;\n",
       "    }\n",
       "\n",
       "    .dataframe thead th {\n",
       "        text-align: right;\n",
       "    }\n",
       "</style>\n",
       "<table border=\"1\" class=\"dataframe\">\n",
       "  <thead>\n",
       "    <tr style=\"text-align: right;\">\n",
       "      <th></th>\n",
       "      <th>eu_sales</th>\n",
       "      <th>jp_sales</th>\n",
       "      <th>na_sales</th>\n",
       "    </tr>\n",
       "    <tr>\n",
       "      <th>rating</th>\n",
       "      <th></th>\n",
       "      <th></th>\n",
       "      <th></th>\n",
       "    </tr>\n",
       "  </thead>\n",
       "  <tbody>\n",
       "    <tr>\n",
       "      <th>AO</th>\n",
       "      <td>0.61</td>\n",
       "      <td>0.00</td>\n",
       "      <td>1.26</td>\n",
       "    </tr>\n",
       "    <tr>\n",
       "      <th>E</th>\n",
       "      <td>703.86</td>\n",
       "      <td>197.96</td>\n",
       "      <td>1274.24</td>\n",
       "    </tr>\n",
       "    <tr>\n",
       "      <th>E10+</th>\n",
       "      <td>183.35</td>\n",
       "      <td>40.20</td>\n",
       "      <td>345.50</td>\n",
       "    </tr>\n",
       "    <tr>\n",
       "      <th>EC</th>\n",
       "      <td>0.11</td>\n",
       "      <td>0.00</td>\n",
       "      <td>1.53</td>\n",
       "    </tr>\n",
       "    <tr>\n",
       "      <th>K-A</th>\n",
       "      <td>0.27</td>\n",
       "      <td>1.46</td>\n",
       "      <td>2.56</td>\n",
       "    </tr>\n",
       "    <tr>\n",
       "      <th>M</th>\n",
       "      <td>480.00</td>\n",
       "      <td>63.58</td>\n",
       "      <td>742.89</td>\n",
       "    </tr>\n",
       "    <tr>\n",
       "      <th>RP</th>\n",
       "      <td>0.03</td>\n",
       "      <td>0.00</td>\n",
       "      <td>0.00</td>\n",
       "    </tr>\n",
       "    <tr>\n",
       "      <th>T</th>\n",
       "      <td>421.60</td>\n",
       "      <td>150.68</td>\n",
       "      <td>746.60</td>\n",
       "    </tr>\n",
       "    <tr>\n",
       "      <th>Неизвестно</th>\n",
       "      <td>609.65</td>\n",
       "      <td>836.74</td>\n",
       "      <td>1225.84</td>\n",
       "    </tr>\n",
       "  </tbody>\n",
       "</table>\n",
       "</div>"
      ],
      "text/plain": [
       "            eu_sales  jp_sales  na_sales\n",
       "rating                                  \n",
       "AO              0.61      0.00      1.26\n",
       "E             703.86    197.96   1274.24\n",
       "E10+          183.35     40.20    345.50\n",
       "EC              0.11      0.00      1.53\n",
       "K-A             0.27      1.46      2.56\n",
       "M             480.00     63.58    742.89\n",
       "RP              0.03      0.00      0.00\n",
       "T             421.60    150.68    746.60\n",
       "Неизвестно    609.65    836.74   1225.84"
      ]
     },
     "execution_count": 111,
     "metadata": {},
     "output_type": "execute_result"
    }
   ],
   "source": [
    "df['rating'] = df['rating'].fillna('Неизвестно')\n",
    "esrb_sales = df.pivot_table(index='rating', values=['na_sales', 'eu_sales', 'jp_sales'], aggfunc='sum')\n",
    "esrb_sales"
   ]
  },
  {
   "cell_type": "markdown",
   "metadata": {},
   "source": [
    "<div class=\"alert alert-danger\">\n",
    "<b>Необходимо исправить ❌</b>\n",
    "\n",
    "Здесь мы потеряли игры без рейтинга (в самом начале тетрадки у меня был комментарий про то, что мы не должны забыть обработать NaN в 'rating'). Если выполнить (**псевдокод!**): **df_actual['rating'].value_counts(dropna=False)**, то получим, что кроме игр с явными рейтингами (которые ты ниже и анализируешь) есть ещё около тысячи игр без рейтинга. Но продажи именно таких игр могут указать на ключевое различие в регионах. \n",
    "Исправь пожалуйста эту ошибку и посмотри - не поменялись ли твои выводы.</div>"
   ]
  },
  {
   "cell_type": "markdown",
   "metadata": {},
   "source": [
    "<div class=\"alert alert-success\">\n",
    "<b>КОММЕНТАРИЙ V2</b>\n",
    "\n",
    "Да, теперь игры без рейтинга из нашего анализа не выпадают, отлично!\n",
    "</div>\n"
   ]
  },
  {
   "cell_type": "markdown",
   "metadata": {},
   "source": [
    "#### Продажи по рейтингу в NA (Северной Америке)"
   ]
  },
  {
   "cell_type": "code",
   "execution_count": 112,
   "metadata": {},
   "outputs": [
    {
     "data": {
      "image/png": "[encoded data removed]",
      "text/plain": [
       "<Figure size 640x480 with 1 Axes>"
      ]
     },
     "metadata": {},
     "output_type": "display_data"
    }
   ],
   "source": [
    "esrb_sales[['na_sales']].sort_values(by='na_sales',ascending = False).plot.bar()\n",
    "plt.title('Продажи по рейтингу в Северной Америке', fontsize=16, pad=20)\n",
    "plt.show()"
   ]
  },
  {
   "cell_type": "markdown",
   "metadata": {},
   "source": [
    "В Северной Америке лидирует рейтинг 'E', что значит для каждого, что в принципе логично. На втором месте рейтинг, который нам неизвестен, на третьем - 'E', т. е. 'teen' - от 13 лет, на четвёртом с небольшим оставанием рейтинг 'M' - от 17 лет, на четвёртом месте 'E10+' - от 10 лет."
   ]
  },
  {
   "cell_type": "markdown",
   "metadata": {},
   "source": [
    "#### Продажи по рейтингу в EU (Европе)"
   ]
  },
  {
   "cell_type": "code",
   "execution_count": 113,
   "metadata": {},
   "outputs": [
    {
     "data": {
      "image/png": "[encoded data removed]",
      "text/plain": [
       "<Figure size 640x480 with 1 Axes>"
      ]
     },
     "metadata": {},
     "output_type": "display_data"
    }
   ],
   "source": [
    "esrb_sales[['eu_sales']].sort_values(by='eu_sales',ascending = False).plot.bar()\n",
    "plt.title('Продажи по рейтингу в Европе', fontsize=16, pad=20)\n",
    "plt.show()"
   ]
  },
  {
   "cell_type": "markdown",
   "metadata": {},
   "source": [
    "В Европе не сильное отличие, третье место тут занимает рейтинг 'M', а четвёртое - 'T'. Т. е. можно сказать, что в Европе больше продаж в рейтинге игр для взрослых, чем в Северной Америке."
   ]
  },
  {
   "cell_type": "markdown",
   "metadata": {},
   "source": [
    "#### Продажи по рейтингу в JP (Японии)"
   ]
  },
  {
   "cell_type": "code",
   "execution_count": 114,
   "metadata": {},
   "outputs": [
    {
     "data": {
      "image/png": "[encoded data removed]",
      "text/plain": [
       "<Figure size 640x480 with 1 Axes>"
      ]
     },
     "metadata": {},
     "output_type": "display_data"
    }
   ],
   "source": [
    "esrb_sales[['jp_sales']].sort_values(by='jp_sales',ascending = False).plot.bar()\n",
    "plt.title('Продажи по рейтингу в Японии', fontsize=16, pad=20)\n",
    "plt.show()"
   ]
  },
  {
   "cell_type": "markdown",
   "metadata": {},
   "source": [
    "<div class=\"alert alert-warning\">\n",
    "<b>Комментарий 👉</b>\n",
    "\n",
    "(После исправления красного комментария выше) А чем на твой взгляд можно объяснить то, что в Японии лидерами продаж (в количестве копий) являются игры без рейтинга ESRB?</div>"
   ]
  },
  {
   "cell_type": "markdown",
   "metadata": {},
   "source": [
    "В Японии очень много пропусков в рейтинге, думаю это связано с тем что в Японии как правило не принято вводить возрастной ценз для игр. Также лидирует рейтинг 'E', но рейтинг 'T' больше в чем в 2 раза опережает рейтинг 'M', значит тут больше по продажам собирают игры для подростков."
   ]
  },
  {
   "cell_type": "markdown",
   "metadata": {},
   "source": [
    "<div class=\"alert alert-success\">\n",
    "<b>КОММЕНТАРИЙ V2</b>\n",
    "\n",
    "Рейтинг ESRB - это американский рейтинг, а в Японии есть своё рейтинговое агентство (CERO). Получается, что Япония страна со своим менталитетом. И твой анализ показывает, что Японцы в игры-то играют не такие, как весь прочий мир и жанры игр там популярны совсем другие, нежели в остальном мире, да и на рейтинги (не своего агентства) не очень-то внимание обращают.\n",
    "</div>\n"
   ]
  },
  {
   "cell_type": "markdown",
   "metadata": {},
   "source": [
    "## Проверим гипотезы"
   ]
  },
  {
   "cell_type": "markdown",
   "metadata": {},
   "source": [
    "### Сраним средние пользовательские рейтинги платформ Xbox One и PC "
   ]
  },
  {
   "cell_type": "markdown",
   "metadata": {},
   "source": [
    "Сформулируем нулевую и альтернативную гипотезу:\n",
    "- Нулевая гипотеза (H0): Средние пользовательские рейтинги платформ Xbox One и PC одинаковые m1 = m2\n",
    "- Альтернативная гипотеза (H1): Средние пользовательские рейтинги платформ Xbox One и PC разные m1 != m2\n",
    "\n",
    "Проверим гипотезу, уровень статистической значимости по умолчанию равен 0.05:"
   ]
  },
  {
   "cell_type": "code",
   "execution_count": 42,
   "metadata": {},
   "outputs": [
    {
     "name": "stdout",
     "output_type": "stream",
     "text": [
      "p-значение: 4.5385802963771835e-06\n",
      "Отвергаем нулевую гипотезу\n"
     ]
    }
   ],
   "source": [
    "df_user_score = df.dropna(subset=['user_score'])\n",
    "Xbox_One = df_user_score.query('platform == \"XOne\"')['user_score']\n",
    "PC = df_user_score.query('platform == \"PC\"')['user_score']\n",
    "\n",
    "alpha = 0.05 \n",
    "\n",
    "results = st.ttest_ind(Xbox_One, PC, equal_var = False, alternative = 'two-sided')\n",
    "\n",
    "print('p-значение:', results.pvalue)\n",
    "\n",
    "if results.pvalue < alpha:\n",
    "    print('Отвергаем нулевую гипотезу')\n",
    "else:\n",
    "    print('Не получилось отвергнуть нулевую гипотезу') "
   ]
  },
  {
   "cell_type": "markdown",
   "metadata": {},
   "source": [
    "<div class=\"alert alert-success\">\n",
    "<b>ОТЛИЧНО! 👍</b>\n",
    "\n",
    "Очень хорошо, что ты не забываешь отфильтровать «заглушки» / NaN значения.\n",
    "\n",
    "Также верно и то, что мы используем здесь двусторонний тест.\n",
    "\n",
    "Ну и отлично, что ты понимаешь, что нельзя сделать вывод, что тест \"подтвердил\" одну из гипотез (в статистике гипотезы подтвердить невозможно) или \"подтвердил\" равенство/неравенство (можно говорить только о статистически (не)значимом различии). Например, так: «У нас нет оснований утверждать, что средние пользовательские рейтинги платформ Xbox One и PC значимо различаются».\n",
    "\n",
    "И ещё на эту же тему: никакие экспериментально полученные данные никогда не подтвердят какую-либо гипотезу. Это наше фундаментальное ограничение. Данные могут лишь не противоречить ей или, наоборот, показывать крайне маловероятные результаты (при условии, что гипотеза верна). Но и в том, и в другом случае нет оснований утверждать, что выдвинутая гипотеза доказана. Допустим, данные гипотезе не противоречат, тогда мы её не отвергаем. Если же мы приходим к выводу, что получить такие данные в рамках этой гипотезы вряд ли возможно, у нас появляется основание отбросить эту гипотезу. \n",
    "\n",
    "Статья на эту тему: https://allatambov.github.io/psms/pdf/hypo-test.pdf\n",
    "</div>"
   ]
  },
  {
   "cell_type": "markdown",
   "metadata": {},
   "source": [
    "Критерий 'two-sided' выбран, потому что надо проверить равны ли 2 выборки или нет. В результате получаем, что средние пользовательские рейтинги платформ Xbox One и PC разные."
   ]
  },
  {
   "cell_type": "markdown",
   "metadata": {},
   "source": [
    "### Проверим разные ли средние пользовательские рейтинги жанров Action (англ. «действие», экшен-игры) и Sports (англ. «спортивные соревнования»)"
   ]
  },
  {
   "cell_type": "markdown",
   "metadata": {},
   "source": [
    "Сформулируем нулевую и альтернативную гипотезу:\n",
    "- Нулевая гипотеза (H0): Средние пользовательские рейтинги жанров 'Action' и 'Sports' одинаковые m1 = m2\n",
    "- Альтернативная гипотеза (H1): Средние пользовательские рейтинги жанров 'Action' и 'Sports' разные m1 != m2\n",
    "\n",
    "Проверим гипотезу, уровень статистической значимости по умолчанию равен 0.05:"
   ]
  },
  {
   "cell_type": "code",
   "execution_count": 43,
   "metadata": {},
   "outputs": [
    {
     "name": "stdout",
     "output_type": "stream",
     "text": [
      "p-значение: 0.07370217419278526\n",
      "Не получилось отвергнуть нулевую гипотезу\n"
     ]
    }
   ],
   "source": [
    "action = df_user_score.query('genre == \"Action\"')['user_score']\n",
    "sports = df_user_score.query('genre == \"Sports\"')['user_score']\n",
    "\n",
    "alpha = 0.05 \n",
    "\n",
    "results = st.ttest_ind(action, sports, equal_var = False, alternative = 'two-sided')\n",
    "\n",
    "print('p-значение:', results.pvalue)\n",
    "\n",
    "if results.pvalue < alpha:\n",
    "    print('Отвергаем нулевую гипотезу')\n",
    "else:\n",
    "    print('Не получилось отвергнуть нулевую гипотезу') "
   ]
  },
  {
   "cell_type": "markdown",
   "metadata": {},
   "source": [
    "Пользовательские рейтинги жанров Action (англ. «действие», экшен-игры) и Sports (англ. «спортивные соревнования») разные. Критерий 'two-sided' выбран потому что также проверяем на равенство или различие."
   ]
  },
  {
   "cell_type": "markdown",
   "metadata": {},
   "source": [
    "# Вывод"
   ]
  },
  {
   "cell_type": "markdown",
   "metadata": {},
   "source": [
    "В данной работе была изучена информация о продаже игр в интернет-магазине «Стримчик». Основной датафрейм был подредактирован: изменены названия столбцов, тип данных в некоторых столбцах, был добавлен столбец с общей выручкой по всем регионом для более обширного анализа. Был проведён исследовательский анализ данных:\n",
    "- выявлен \"актуальный\" период для прогноза на 2017 год (2013 - 2016 года) \n",
    "- ожидается что на 2017 год самой популярной платформой будет PS4 (самая популярная платформа за все время - PS3)\n",
    "- отзывы критиков немного влияют на продажи для определённой платформы, а отзывы пользователей - практически никак\n",
    "- самые популярные жанры - \"Action\" и \"Role-Playing\" (\"Role-Playing\" очень популярен в Японии)\n",
    "\n",
    "Были проанализированы продажи платформ и жанров по регионам. Самое большое отличие по популярным приставкам и жанрам от остальных регионов у Японии. По рейтингу ESRB есть различия по категориям для подростков и взрослых (см. 4.3).\n",
    "Были проверены гипотезы и сделаны выводы (см.5).\n",
    "По результатам продаж советую ввести рекламную компанию для жанра игр 'Action' и 'Shooter' для PS4, так как это самые популярные и прибыльные жанры на платформе продажи игр которой к 2017 году по прогнозу будут самыми большими. Ещё рекомендую ввести рекламную компанию для игр в жанре \"Role-Playing\" в Японии на платформе 3DS."
   ]
  },
  {
   "cell_type": "markdown",
   "metadata": {},
   "source": [
    "<div class=\"alert alert-danger\">\n",
    "<b>Необходимо исправить ❌</b>\n",
    "\n",
    "Давай представим вполне себе реалистичный сценарий: после выполнения анализа ты готовишь презентацию для топ-менеджмента компании и получаешь приглашение на совет директоров для рассказа и представления своих выводов. Ты ровно эти выводы с собой понесешь? Достаточно ли они детальны, описывают ли они все аспекты (задачи из брифа), которые мы должны были обнаружить, интерпретировать и описать?\n",
    "\n",
    "И самое главное - нам, нашей компании \"Стримчик\"-то что делать? Мы не разработчики, мы не критики, мы обычные продавцы. Нам нужно спланировать рекламную компанию на 2017 год. На что мы должны ставку делать? На что в каждом из рассмотренных регионов? Конкретика нужна от тебя, как от аналитика. \n",
    "\n",
    "Другими словами, в нашем исследовании мы проанализировали игры «с разных точек зрения». Логично, что рекламный отдел от нас ждет на какие платформы (1-2 штуки, на большее у нас не хватит рекламного бюджета), с каким жанром, с каким рейтингом ESRB и в каком регионе рекламировать. Стоит ли обращать внимание на отзывы или нет. К финальному выводу вся эта информация у нас уже есть, надо просто акцентировать на какие игры тратить рекламный бюджет.</div>"
   ]
  },
  {
   "cell_type": "markdown",
   "metadata": {},
   "source": [
    "<div class=\"alert alert-danger\">\n",
    "<b>Необходимо исправить ❌</b>\n",
    "\n",
    "После исправления красных комментариев надо будет ещё раз пересмотреть выводы в этом финальном разделе, я уверен, что некоторые акценты сместятся и твой вывод поменяется.\n",
    "</div>"
   ]
  },
  {
   "cell_type": "markdown",
   "metadata": {},
   "source": [
    "<div class=\"alert alert-success\">\n",
    "<b>КОММЕНТАРИЙ V2</b>\n",
    "\n",
    "Я за более подробные выводы, но ОК, этот принят.\n",
    "</div>\n"
   ]
  },
  {
   "cell_type": "code",
   "execution_count": null,
   "metadata": {},
   "outputs": [],
   "source": []
  },
  {
   "cell_type": "markdown",
   "metadata": {},
   "source": [
    "# Результат ревью:\n",
    "\n",
    "Я отмечаю адекватный уровень твоей программистской подготовки. Ты используешь продвинутые концепции языка Python и библиотеки pandas. Это показывает твой уровень владения инструментами.\n",
    "\n",
    "Ты умело применяешь графические библиотеки (matplotlib / seaborn / plotly), выбираешь для визуализации ровно те типы графиков, которые нужны. Если ещё поработать над тем, чтобы все оси были подписаны и графики имели понятные названия, то будет просто отлично. Очень хорошо, что оси на графиках (в большинстве графиков!) подписаны и сами они имеют понятные названия.\n",
    "\n",
    "С комментированием никаких проблем нет. Твоих объяснений достаточно для понимания твоими коллегами хода мыслей. Ссылки из брифа проекта в нужных местах также помогают следовать за развитием событий и дают полную информацию касаемо того, что будет происходить в том или ином разделе проекта.\n",
    "\n",
    "Мне было просто проверять твой проект, потому что он чётко структурирован, с использованием оглавления. \n",
    "\n",
    "Зелёным цветом я отметил и прокомментировал удачные и элегантные решения, на которые ты можешь опираться в будущих проектах.\n",
    "\n",
    "Жёлтым цветом я выделил то, что в следующий раз можно сделать по-другому. Ты можешь учесть эти комментарии при выполнении будущих заданий или доработать проект сейчас.\n",
    "\n",
    "Однако есть принципиальные моменты, которые не позволяют мне принять твой проект в его нынешнем состоянии:\n",
    "\n",
    "<div class=\"alert alert-danger\">\n",
    "<b>Необходимо исправить ❌</b> \n",
    "\n",
    "1. Небольшая вводная перед исследованием даст быстрое понимание о том, чему оно посвящено. Я настоятельно рекомендую тебе оформить введение и добавить цели и задачи проекта.\n",
    "\n",
    "2. Одна из задач этого проекта (согласно брифа): 1. Объясните, почему заполнили пропуски определённым образом или почему не стали это делать, 2. Опишите причины, которые могли привести к пропускам 3. Обратите внимание на аббревиатуру 'tbd' в столбце с оценкой пользователей. Отдельно разберите это значение и опишите, как его обработать. Нужен твой комментарий, касающийся природы пропусков в столбце с рейтингами, а именно, может ли быть какая-то связь с тем, что в столбце с рейтингами >40% пропусков и тем, что эти оценки (рейтинги) выставляет **именно Американское рейтинговое агентство**?\n",
    "\n",
    "3. Любая предобработка данных предполагает поиск и анализ дубликатов. В твоём разделе EDA (== Exploratory Data Analysis) подобной важной составляющей нет. После поиска и обнаружения - опиши как их планируешь и планируешь ли обрабатывать?\n",
    "\n",
    "4. Из-за выбранного тобой значения bins гистограмма/график распределения игр по годам релиза отображает неверные значения. Например, обрати внимание на значение, соответствующее 2015 году.\n",
    "\n",
    "5. После того, как мы определили интервал, на котором будем строить аналитику - всё равно продолжаем использовать датафрейм с полными данными, т.е. анализируем все данные и таким образом \"приносим\" в аналитику старые, потерявшие актуальность тренды.\n",
    "\n",
    "6. В разделе построения «ящика с усами» по глобальным продажам игр в разбивке по платформам необходимо построить график так, чтобы квартили соответствующих «ящиков» позволяли визуально сравнивать платформы между собой. **Все боксплоты** нужно построить на одном графике.\n",
    " \n",
    "7. Формулировать, что коэффициент (линейной) корреляции (Пирсона) между 2 переменными (в нашем случае между \"продажами\" и \"оценками\") есть показатель **влияния оценок на количество продаж** - неверно.\n",
    "\n",
    "8. Попробуй рассмотреть не общие продажи, а медианные (или средние). Общие продажи - плохая метрика для поиска наиболее прибыльного жанра. Анализ медианных показателей позволит тебе найти жанр, который приносит высокий доход.\n",
    "\n",
    "9. Мы \"потеряли\" игры без рейтинга. Кроме игр с явными рейтингами (которые ты анализируешь) есть ещё около тысячи игр без рейтинга. Но продажи именно таких игр могут указать на ключевое различие в регионах.\n",
    "\n",
    "10. Финальный вывод в таком виде - это не то, что менеджмент компании ждет от аналитика данных. Профессионал должен предоставить точные, четкие, полные и корректные **прогнозы и рекомендации**, которые помогут компании победить в конкурентной борьбе на высоко конкурентном рынке продаж компьютерных игр. Вывод же, завершающий твой рабочий проект, увы, бесполезен для генерального директора твоей компании. Он ему ничем не поможет. Здесь, в финальном выводе требуется максимально подробно описать что ты предлагаешь сделать в 2017 году, для того, чтобы твоя компания победила конкурентов.</div>\n",
    "\n",
    "Эти 10 моментов требуют твоего внимания. Комментарии по ним помечены красным цветом. \n",
    "\n",
    "Подводя итог: хорошая работа на самом-то деле, молодец! Есть несколько моментов к исправлению, но уверен, что они не вызовут у тебя сложностей. После доработки обязательно проверь комментарии и выводы. Их нужно будет скорректировать. Жду доработанную версию проекта на повторное ревью."
   ]
  }
 ],
 "metadata": {
  "ExecuteTimeLog": [
   {
    "duration": 1259,
    "start_time": "2023-06-06T13:38:56.395Z"
   },
   {
    "duration": 526,
    "start_time": "2023-06-06T13:38:57.656Z"
   },
   {
    "duration": 32,
    "start_time": "2023-06-06T13:38:58.183Z"
   },
   {
    "duration": 16,
    "start_time": "2023-06-06T13:38:58.217Z"
   },
   {
    "duration": 9,
    "start_time": "2023-06-06T13:38:58.234Z"
   },
   {
    "duration": 21,
    "start_time": "2023-06-06T13:38:58.245Z"
   },
   {
    "duration": 13,
    "start_time": "2023-06-06T13:38:58.267Z"
   },
   {
    "duration": 5,
    "start_time": "2023-06-06T13:38:58.281Z"
   },
   {
    "duration": 8,
    "start_time": "2023-06-06T13:38:58.287Z"
   },
   {
    "duration": 20,
    "start_time": "2023-06-06T13:38:58.313Z"
   },
   {
    "duration": 11,
    "start_time": "2023-06-06T13:38:58.334Z"
   },
   {
    "duration": 22,
    "start_time": "2023-06-06T13:38:58.346Z"
   },
   {
    "duration": 7,
    "start_time": "2023-06-06T13:38:58.370Z"
   },
   {
    "duration": 48,
    "start_time": "2023-06-06T13:38:58.378Z"
   },
   {
    "duration": 217,
    "start_time": "2023-06-06T13:38:58.427Z"
   },
   {
    "duration": 14,
    "start_time": "2023-06-06T13:38:58.646Z"
   },
   {
    "duration": 385,
    "start_time": "2023-06-06T13:38:58.661Z"
   },
   {
    "duration": 15,
    "start_time": "2023-06-06T13:38:59.047Z"
   },
   {
    "duration": 277,
    "start_time": "2023-06-06T13:38:59.064Z"
   },
   {
    "duration": 105,
    "start_time": "2023-06-06T13:38:59.343Z"
   },
   {
    "duration": 105,
    "start_time": "2023-06-06T13:38:59.450Z"
   },
   {
    "duration": 686,
    "start_time": "2023-06-06T13:38:59.556Z"
   },
   {
    "duration": 10,
    "start_time": "2023-06-06T13:39:00.244Z"
   },
   {
    "duration": 663,
    "start_time": "2023-06-06T13:39:00.256Z"
   },
   {
    "duration": 12,
    "start_time": "2023-06-06T13:39:00.923Z"
   },
   {
    "duration": 261,
    "start_time": "2023-06-06T13:39:00.937Z"
   },
   {
    "duration": 27,
    "start_time": "2023-06-06T13:39:01.208Z"
   },
   {
    "duration": 87,
    "start_time": "2023-06-06T13:39:01.239Z"
   },
   {
    "duration": 170,
    "start_time": "2023-06-06T13:39:01.328Z"
   },
   {
    "duration": 198,
    "start_time": "2023-06-06T13:39:01.500Z"
   },
   {
    "duration": 170,
    "start_time": "2023-06-06T13:39:01.700Z"
   },
   {
    "duration": 18,
    "start_time": "2023-06-06T13:39:01.872Z"
   },
   {
    "duration": 250,
    "start_time": "2023-06-06T13:39:01.907Z"
   },
   {
    "duration": 171,
    "start_time": "2023-06-06T13:39:02.159Z"
   },
   {
    "duration": 145,
    "start_time": "2023-06-06T13:39:02.331Z"
   },
   {
    "duration": 52,
    "start_time": "2023-06-06T13:39:02.477Z"
   },
   {
    "duration": 157,
    "start_time": "2023-06-06T13:39:02.535Z"
   },
   {
    "duration": 158,
    "start_time": "2023-06-06T13:39:02.694Z"
   },
   {
    "duration": 200,
    "start_time": "2023-06-06T13:39:02.853Z"
   },
   {
    "duration": 17,
    "start_time": "2023-06-06T13:39:03.056Z"
   },
   {
    "duration": 12,
    "start_time": "2023-06-06T13:39:03.075Z"
   },
   {
    "duration": 1353,
    "start_time": "2023-06-07T18:59:07.574Z"
   },
   {
    "duration": 281,
    "start_time": "2023-06-07T18:59:08.930Z"
   },
   {
    "duration": 36,
    "start_time": "2023-06-07T18:59:09.213Z"
   },
   {
    "duration": 22,
    "start_time": "2023-06-07T18:59:09.251Z"
   },
   {
    "duration": 16,
    "start_time": "2023-06-07T18:59:09.276Z"
   },
   {
    "duration": 21,
    "start_time": "2023-06-07T18:59:09.294Z"
   },
   {
    "duration": 11,
    "start_time": "2023-06-07T18:59:09.320Z"
   },
   {
    "duration": 19,
    "start_time": "2023-06-07T18:59:09.332Z"
   },
   {
    "duration": 47,
    "start_time": "2023-06-07T18:59:09.365Z"
   },
   {
    "duration": 15,
    "start_time": "2023-06-07T18:59:09.414Z"
   },
   {
    "duration": 11,
    "start_time": "2023-06-07T18:59:09.431Z"
   },
   {
    "duration": 30,
    "start_time": "2023-06-07T18:59:09.443Z"
   },
   {
    "duration": 18,
    "start_time": "2023-06-07T18:59:09.474Z"
   },
   {
    "duration": 19,
    "start_time": "2023-06-07T18:59:09.499Z"
   },
   {
    "duration": 17,
    "start_time": "2023-06-07T18:59:09.520Z"
   },
   {
    "duration": 32,
    "start_time": "2023-06-07T18:59:09.539Z"
   },
   {
    "duration": 31,
    "start_time": "2023-06-07T18:59:09.577Z"
   },
   {
    "duration": 14,
    "start_time": "2023-06-07T18:59:09.609Z"
   },
   {
    "duration": 3,
    "start_time": "2023-06-07T18:59:09.625Z"
   },
   {
    "duration": 275,
    "start_time": "2023-06-07T18:59:09.630Z"
   },
   {
    "duration": 18,
    "start_time": "2023-06-07T18:59:09.909Z"
   },
   {
    "duration": 468,
    "start_time": "2023-06-07T18:59:09.929Z"
   },
   {
    "duration": 18,
    "start_time": "2023-06-07T18:59:10.401Z"
   },
   {
    "duration": 337,
    "start_time": "2023-06-07T18:59:10.421Z"
   },
   {
    "duration": 138,
    "start_time": "2023-06-07T18:59:10.760Z"
   },
   {
    "duration": 230,
    "start_time": "2023-06-07T18:59:10.900Z"
   },
   {
    "duration": 131,
    "start_time": "2023-06-07T18:59:58.872Z"
   },
   {
    "duration": 401,
    "start_time": "2023-06-07T19:00:07.334Z"
   },
   {
    "duration": 389,
    "start_time": "2023-06-07T19:01:48.641Z"
   },
   {
    "duration": 410,
    "start_time": "2023-06-07T19:01:51.841Z"
   }
  ],
  "kernelspec": {
   "display_name": "Python 3 (ipykernel)",
   "language": "python",
   "name": "python3"
  },
  "language_info": {
   "codemirror_mode": {
    "name": "ipython",
    "version": 3
   },
   "file_extension": ".py",
   "mimetype": "text/x-python",
   "name": "python",
   "nbconvert_exporter": "python",
   "pygments_lexer": "ipython3",
   "version": "3.9.5"
  },
  "toc": {
   "base_numbering": 1,
   "nav_menu": {},
   "number_sections": true,
   "sideBar": true,
   "skip_h1_title": true,
   "title_cell": "Table of Contents",
   "title_sidebar": "Contents",
   "toc_cell": false,
   "toc_position": {},
   "toc_section_display": true,
   "toc_window_display": true
  }
 },
 "nbformat": 4,
 "nbformat_minor": 2
}
